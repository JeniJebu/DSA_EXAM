{
  "nbformat": 4,
  "nbformat_minor": 0,
  "metadata": {
    "colab": {
      "provenance": []
    },
    "kernelspec": {
      "name": "python3",
      "display_name": "Python 3"
    },
    "language_info": {
      "name": "python"
    }
  },
  "cells": [
    {
      "cell_type": "code",
      "execution_count": 1,
      "metadata": {
        "id": "BGPaYttJi10z"
      },
      "outputs": [],
      "source": [
        "# Import the necessary libraries\n",
        "import numpy as np\n",
        "import pandas as pd\n",
        "import matplotlib.pyplot as plt\n",
        "import seaborn as sns"
      ]
    },
    {
      "cell_type": "code",
      "source": [
        "#Read the dataset\n",
        "data = pd.read_csv('/content/Employee.csv')"
      ],
      "metadata": {
        "id": "clmMmu8ai5Zb"
      },
      "execution_count": 2,
      "outputs": []
    },
    {
      "cell_type": "markdown",
      "source": [
        "# Data Understanding"
      ],
      "metadata": {
        "id": "4PC8GW6OnSee"
      }
    },
    {
      "cell_type": "code",
      "source": [
        "data.head()"
      ],
      "metadata": {
        "colab": {
          "base_uri": "https://localhost:8080/",
          "height": 290
        },
        "id": "-jbWsysdjBKf",
        "outputId": "f6ce2f0f-4520-41c6-9e60-2454c3d2a38b"
      },
      "execution_count": 3,
      "outputs": [
        {
          "output_type": "execute_result",
          "data": {
            "text/plain": [
              "   Employee ID  Age  Gender  Years at Company    Job Role  Monthly Income  \\\n",
              "0         8410   31    Male                19   Education            5390   \n",
              "1        64756   59  Female                 4       Media            5534   \n",
              "2        30257   24  Female                10  Healthcare            8159   \n",
              "3        65791   36  Female                 7   Education            3989   \n",
              "4        65026   56    Male                41   Education            4821   \n",
              "\n",
              "  Work-Life Balance Job Satisfaction Performance Rating  Number of Promotions  \\\n",
              "0         Excellent           Medium            Average                   2.0   \n",
              "1              Poor             High                Low                   3.0   \n",
              "2              Good             High                Low                   0.0   \n",
              "3              Good             High               High                   1.0   \n",
              "4              Fair        Very High            Average                   0.0   \n",
              "\n",
              "   ... Number of Dependents  Job Level Company Size Company Tenure  \\\n",
              "0  ...                  0.0        Mid       Medium             89   \n",
              "1  ...                  3.0        Mid       Medium             21   \n",
              "2  ...                  3.0        Mid       Medium             74   \n",
              "3  ...                  2.0        Mid        Small             50   \n",
              "4  ...                  0.0     Senior       Medium             68   \n",
              "\n",
              "   Remote Work Leadership Opportunities Innovation Opportunities  \\\n",
              "0           No                       No                       No   \n",
              "1           No                       No                       No   \n",
              "2           No                       No                       No   \n",
              "3          Yes                       No                       No   \n",
              "4           No                       No                       No   \n",
              "\n",
              "   Company Reputation Employee Recognition Attrition  \n",
              "0           Excellent               Medium    Stayed  \n",
              "1                Fair                  Low    Stayed  \n",
              "2                Poor                  Low    Stayed  \n",
              "3                Good               Medium    Stayed  \n",
              "4                Fair               Medium    Stayed  \n",
              "\n",
              "[5 rows x 24 columns]"
            ],
            "text/html": [
              "\n",
              "  <div id=\"df-4c1b746c-f5c2-4411-b8a7-2fa454b72a84\" class=\"colab-df-container\">\n",
              "    <div>\n",
              "<style scoped>\n",
              "    .dataframe tbody tr th:only-of-type {\n",
              "        vertical-align: middle;\n",
              "    }\n",
              "\n",
              "    .dataframe tbody tr th {\n",
              "        vertical-align: top;\n",
              "    }\n",
              "\n",
              "    .dataframe thead th {\n",
              "        text-align: right;\n",
              "    }\n",
              "</style>\n",
              "<table border=\"1\" class=\"dataframe\">\n",
              "  <thead>\n",
              "    <tr style=\"text-align: right;\">\n",
              "      <th></th>\n",
              "      <th>Employee ID</th>\n",
              "      <th>Age</th>\n",
              "      <th>Gender</th>\n",
              "      <th>Years at Company</th>\n",
              "      <th>Job Role</th>\n",
              "      <th>Monthly Income</th>\n",
              "      <th>Work-Life Balance</th>\n",
              "      <th>Job Satisfaction</th>\n",
              "      <th>Performance Rating</th>\n",
              "      <th>Number of Promotions</th>\n",
              "      <th>...</th>\n",
              "      <th>Number of Dependents</th>\n",
              "      <th>Job Level</th>\n",
              "      <th>Company Size</th>\n",
              "      <th>Company Tenure</th>\n",
              "      <th>Remote Work</th>\n",
              "      <th>Leadership Opportunities</th>\n",
              "      <th>Innovation Opportunities</th>\n",
              "      <th>Company Reputation</th>\n",
              "      <th>Employee Recognition</th>\n",
              "      <th>Attrition</th>\n",
              "    </tr>\n",
              "  </thead>\n",
              "  <tbody>\n",
              "    <tr>\n",
              "      <th>0</th>\n",
              "      <td>8410</td>\n",
              "      <td>31</td>\n",
              "      <td>Male</td>\n",
              "      <td>19</td>\n",
              "      <td>Education</td>\n",
              "      <td>5390</td>\n",
              "      <td>Excellent</td>\n",
              "      <td>Medium</td>\n",
              "      <td>Average</td>\n",
              "      <td>2.0</td>\n",
              "      <td>...</td>\n",
              "      <td>0.0</td>\n",
              "      <td>Mid</td>\n",
              "      <td>Medium</td>\n",
              "      <td>89</td>\n",
              "      <td>No</td>\n",
              "      <td>No</td>\n",
              "      <td>No</td>\n",
              "      <td>Excellent</td>\n",
              "      <td>Medium</td>\n",
              "      <td>Stayed</td>\n",
              "    </tr>\n",
              "    <tr>\n",
              "      <th>1</th>\n",
              "      <td>64756</td>\n",
              "      <td>59</td>\n",
              "      <td>Female</td>\n",
              "      <td>4</td>\n",
              "      <td>Media</td>\n",
              "      <td>5534</td>\n",
              "      <td>Poor</td>\n",
              "      <td>High</td>\n",
              "      <td>Low</td>\n",
              "      <td>3.0</td>\n",
              "      <td>...</td>\n",
              "      <td>3.0</td>\n",
              "      <td>Mid</td>\n",
              "      <td>Medium</td>\n",
              "      <td>21</td>\n",
              "      <td>No</td>\n",
              "      <td>No</td>\n",
              "      <td>No</td>\n",
              "      <td>Fair</td>\n",
              "      <td>Low</td>\n",
              "      <td>Stayed</td>\n",
              "    </tr>\n",
              "    <tr>\n",
              "      <th>2</th>\n",
              "      <td>30257</td>\n",
              "      <td>24</td>\n",
              "      <td>Female</td>\n",
              "      <td>10</td>\n",
              "      <td>Healthcare</td>\n",
              "      <td>8159</td>\n",
              "      <td>Good</td>\n",
              "      <td>High</td>\n",
              "      <td>Low</td>\n",
              "      <td>0.0</td>\n",
              "      <td>...</td>\n",
              "      <td>3.0</td>\n",
              "      <td>Mid</td>\n",
              "      <td>Medium</td>\n",
              "      <td>74</td>\n",
              "      <td>No</td>\n",
              "      <td>No</td>\n",
              "      <td>No</td>\n",
              "      <td>Poor</td>\n",
              "      <td>Low</td>\n",
              "      <td>Stayed</td>\n",
              "    </tr>\n",
              "    <tr>\n",
              "      <th>3</th>\n",
              "      <td>65791</td>\n",
              "      <td>36</td>\n",
              "      <td>Female</td>\n",
              "      <td>7</td>\n",
              "      <td>Education</td>\n",
              "      <td>3989</td>\n",
              "      <td>Good</td>\n",
              "      <td>High</td>\n",
              "      <td>High</td>\n",
              "      <td>1.0</td>\n",
              "      <td>...</td>\n",
              "      <td>2.0</td>\n",
              "      <td>Mid</td>\n",
              "      <td>Small</td>\n",
              "      <td>50</td>\n",
              "      <td>Yes</td>\n",
              "      <td>No</td>\n",
              "      <td>No</td>\n",
              "      <td>Good</td>\n",
              "      <td>Medium</td>\n",
              "      <td>Stayed</td>\n",
              "    </tr>\n",
              "    <tr>\n",
              "      <th>4</th>\n",
              "      <td>65026</td>\n",
              "      <td>56</td>\n",
              "      <td>Male</td>\n",
              "      <td>41</td>\n",
              "      <td>Education</td>\n",
              "      <td>4821</td>\n",
              "      <td>Fair</td>\n",
              "      <td>Very High</td>\n",
              "      <td>Average</td>\n",
              "      <td>0.0</td>\n",
              "      <td>...</td>\n",
              "      <td>0.0</td>\n",
              "      <td>Senior</td>\n",
              "      <td>Medium</td>\n",
              "      <td>68</td>\n",
              "      <td>No</td>\n",
              "      <td>No</td>\n",
              "      <td>No</td>\n",
              "      <td>Fair</td>\n",
              "      <td>Medium</td>\n",
              "      <td>Stayed</td>\n",
              "    </tr>\n",
              "  </tbody>\n",
              "</table>\n",
              "<p>5 rows × 24 columns</p>\n",
              "</div>\n",
              "    <div class=\"colab-df-buttons\">\n",
              "\n",
              "  <div class=\"colab-df-container\">\n",
              "    <button class=\"colab-df-convert\" onclick=\"convertToInteractive('df-4c1b746c-f5c2-4411-b8a7-2fa454b72a84')\"\n",
              "            title=\"Convert this dataframe to an interactive table.\"\n",
              "            style=\"display:none;\">\n",
              "\n",
              "  <svg xmlns=\"http://www.w3.org/2000/svg\" height=\"24px\" viewBox=\"0 -960 960 960\">\n",
              "    <path d=\"M120-120v-720h720v720H120Zm60-500h600v-160H180v160Zm220 220h160v-160H400v160Zm0 220h160v-160H400v160ZM180-400h160v-160H180v160Zm440 0h160v-160H620v160ZM180-180h160v-160H180v160Zm440 0h160v-160H620v160Z\"/>\n",
              "  </svg>\n",
              "    </button>\n",
              "\n",
              "  <style>\n",
              "    .colab-df-container {\n",
              "      display:flex;\n",
              "      gap: 12px;\n",
              "    }\n",
              "\n",
              "    .colab-df-convert {\n",
              "      background-color: #E8F0FE;\n",
              "      border: none;\n",
              "      border-radius: 50%;\n",
              "      cursor: pointer;\n",
              "      display: none;\n",
              "      fill: #1967D2;\n",
              "      height: 32px;\n",
              "      padding: 0 0 0 0;\n",
              "      width: 32px;\n",
              "    }\n",
              "\n",
              "    .colab-df-convert:hover {\n",
              "      background-color: #E2EBFA;\n",
              "      box-shadow: 0px 1px 2px rgba(60, 64, 67, 0.3), 0px 1px 3px 1px rgba(60, 64, 67, 0.15);\n",
              "      fill: #174EA6;\n",
              "    }\n",
              "\n",
              "    .colab-df-buttons div {\n",
              "      margin-bottom: 4px;\n",
              "    }\n",
              "\n",
              "    [theme=dark] .colab-df-convert {\n",
              "      background-color: #3B4455;\n",
              "      fill: #D2E3FC;\n",
              "    }\n",
              "\n",
              "    [theme=dark] .colab-df-convert:hover {\n",
              "      background-color: #434B5C;\n",
              "      box-shadow: 0px 1px 3px 1px rgba(0, 0, 0, 0.15);\n",
              "      filter: drop-shadow(0px 1px 2px rgba(0, 0, 0, 0.3));\n",
              "      fill: #FFFFFF;\n",
              "    }\n",
              "  </style>\n",
              "\n",
              "    <script>\n",
              "      const buttonEl =\n",
              "        document.querySelector('#df-4c1b746c-f5c2-4411-b8a7-2fa454b72a84 button.colab-df-convert');\n",
              "      buttonEl.style.display =\n",
              "        google.colab.kernel.accessAllowed ? 'block' : 'none';\n",
              "\n",
              "      async function convertToInteractive(key) {\n",
              "        const element = document.querySelector('#df-4c1b746c-f5c2-4411-b8a7-2fa454b72a84');\n",
              "        const dataTable =\n",
              "          await google.colab.kernel.invokeFunction('convertToInteractive',\n",
              "                                                    [key], {});\n",
              "        if (!dataTable) return;\n",
              "\n",
              "        const docLinkHtml = 'Like what you see? Visit the ' +\n",
              "          '<a target=\"_blank\" href=https://colab.research.google.com/notebooks/data_table.ipynb>data table notebook</a>'\n",
              "          + ' to learn more about interactive tables.';\n",
              "        element.innerHTML = '';\n",
              "        dataTable['output_type'] = 'display_data';\n",
              "        await google.colab.output.renderOutput(dataTable, element);\n",
              "        const docLink = document.createElement('div');\n",
              "        docLink.innerHTML = docLinkHtml;\n",
              "        element.appendChild(docLink);\n",
              "      }\n",
              "    </script>\n",
              "  </div>\n",
              "\n",
              "\n",
              "<div id=\"df-e0380f00-e36a-424b-a500-dce6f5f39b64\">\n",
              "  <button class=\"colab-df-quickchart\" onclick=\"quickchart('df-e0380f00-e36a-424b-a500-dce6f5f39b64')\"\n",
              "            title=\"Suggest charts\"\n",
              "            style=\"display:none;\">\n",
              "\n",
              "<svg xmlns=\"http://www.w3.org/2000/svg\" height=\"24px\"viewBox=\"0 0 24 24\"\n",
              "     width=\"24px\">\n",
              "    <g>\n",
              "        <path d=\"M19 3H5c-1.1 0-2 .9-2 2v14c0 1.1.9 2 2 2h14c1.1 0 2-.9 2-2V5c0-1.1-.9-2-2-2zM9 17H7v-7h2v7zm4 0h-2V7h2v10zm4 0h-2v-4h2v4z\"/>\n",
              "    </g>\n",
              "</svg>\n",
              "  </button>\n",
              "\n",
              "<style>\n",
              "  .colab-df-quickchart {\n",
              "      --bg-color: #E8F0FE;\n",
              "      --fill-color: #1967D2;\n",
              "      --hover-bg-color: #E2EBFA;\n",
              "      --hover-fill-color: #174EA6;\n",
              "      --disabled-fill-color: #AAA;\n",
              "      --disabled-bg-color: #DDD;\n",
              "  }\n",
              "\n",
              "  [theme=dark] .colab-df-quickchart {\n",
              "      --bg-color: #3B4455;\n",
              "      --fill-color: #D2E3FC;\n",
              "      --hover-bg-color: #434B5C;\n",
              "      --hover-fill-color: #FFFFFF;\n",
              "      --disabled-bg-color: #3B4455;\n",
              "      --disabled-fill-color: #666;\n",
              "  }\n",
              "\n",
              "  .colab-df-quickchart {\n",
              "    background-color: var(--bg-color);\n",
              "    border: none;\n",
              "    border-radius: 50%;\n",
              "    cursor: pointer;\n",
              "    display: none;\n",
              "    fill: var(--fill-color);\n",
              "    height: 32px;\n",
              "    padding: 0;\n",
              "    width: 32px;\n",
              "  }\n",
              "\n",
              "  .colab-df-quickchart:hover {\n",
              "    background-color: var(--hover-bg-color);\n",
              "    box-shadow: 0 1px 2px rgba(60, 64, 67, 0.3), 0 1px 3px 1px rgba(60, 64, 67, 0.15);\n",
              "    fill: var(--button-hover-fill-color);\n",
              "  }\n",
              "\n",
              "  .colab-df-quickchart-complete:disabled,\n",
              "  .colab-df-quickchart-complete:disabled:hover {\n",
              "    background-color: var(--disabled-bg-color);\n",
              "    fill: var(--disabled-fill-color);\n",
              "    box-shadow: none;\n",
              "  }\n",
              "\n",
              "  .colab-df-spinner {\n",
              "    border: 2px solid var(--fill-color);\n",
              "    border-color: transparent;\n",
              "    border-bottom-color: var(--fill-color);\n",
              "    animation:\n",
              "      spin 1s steps(1) infinite;\n",
              "  }\n",
              "\n",
              "  @keyframes spin {\n",
              "    0% {\n",
              "      border-color: transparent;\n",
              "      border-bottom-color: var(--fill-color);\n",
              "      border-left-color: var(--fill-color);\n",
              "    }\n",
              "    20% {\n",
              "      border-color: transparent;\n",
              "      border-left-color: var(--fill-color);\n",
              "      border-top-color: var(--fill-color);\n",
              "    }\n",
              "    30% {\n",
              "      border-color: transparent;\n",
              "      border-left-color: var(--fill-color);\n",
              "      border-top-color: var(--fill-color);\n",
              "      border-right-color: var(--fill-color);\n",
              "    }\n",
              "    40% {\n",
              "      border-color: transparent;\n",
              "      border-right-color: var(--fill-color);\n",
              "      border-top-color: var(--fill-color);\n",
              "    }\n",
              "    60% {\n",
              "      border-color: transparent;\n",
              "      border-right-color: var(--fill-color);\n",
              "    }\n",
              "    80% {\n",
              "      border-color: transparent;\n",
              "      border-right-color: var(--fill-color);\n",
              "      border-bottom-color: var(--fill-color);\n",
              "    }\n",
              "    90% {\n",
              "      border-color: transparent;\n",
              "      border-bottom-color: var(--fill-color);\n",
              "    }\n",
              "  }\n",
              "</style>\n",
              "\n",
              "  <script>\n",
              "    async function quickchart(key) {\n",
              "      const quickchartButtonEl =\n",
              "        document.querySelector('#' + key + ' button');\n",
              "      quickchartButtonEl.disabled = true;  // To prevent multiple clicks.\n",
              "      quickchartButtonEl.classList.add('colab-df-spinner');\n",
              "      try {\n",
              "        const charts = await google.colab.kernel.invokeFunction(\n",
              "            'suggestCharts', [key], {});\n",
              "      } catch (error) {\n",
              "        console.error('Error during call to suggestCharts:', error);\n",
              "      }\n",
              "      quickchartButtonEl.classList.remove('colab-df-spinner');\n",
              "      quickchartButtonEl.classList.add('colab-df-quickchart-complete');\n",
              "    }\n",
              "    (() => {\n",
              "      let quickchartButtonEl =\n",
              "        document.querySelector('#df-e0380f00-e36a-424b-a500-dce6f5f39b64 button');\n",
              "      quickchartButtonEl.style.display =\n",
              "        google.colab.kernel.accessAllowed ? 'block' : 'none';\n",
              "    })();\n",
              "  </script>\n",
              "</div>\n",
              "\n",
              "    </div>\n",
              "  </div>\n"
            ],
            "application/vnd.google.colaboratory.intrinsic+json": {
              "type": "dataframe",
              "variable_name": "data"
            }
          },
          "metadata": {},
          "execution_count": 3
        }
      ]
    },
    {
      "cell_type": "code",
      "source": [
        "data.tail()"
      ],
      "metadata": {
        "colab": {
          "base_uri": "https://localhost:8080/",
          "height": 325
        },
        "id": "USWBKCgQjBur",
        "outputId": "2913f336-eb5d-4ba7-8a7f-985d1f6e3cd8"
      },
      "execution_count": 4,
      "outputs": [
        {
          "output_type": "execute_result",
          "data": {
            "text/plain": [
              "       Employee ID  Age  Gender  Years at Company    Job Role  Monthly Income  \\\n",
              "74493        16243   56  Female                42  Healthcare            7830   \n",
              "74494        47175   30  Female                15   Education            3856   \n",
              "74495        12409   52    Male                 5   Education            5654   \n",
              "74496         9554   18    Male                 4   Education            5276   \n",
              "74497        73042   59  Female                48   Education            3774   \n",
              "\n",
              "      Work-Life Balance Job Satisfaction Performance Rating  \\\n",
              "74493              Poor           Medium            Average   \n",
              "74494              Good           Medium            Average   \n",
              "74495              Good        Very High      Below Average   \n",
              "74496              Fair             High            Average   \n",
              "74497              Good             High      Below Average   \n",
              "\n",
              "       Number of Promotions  ... Number of Dependents  Job Level Company Size  \\\n",
              "74493                   0.0  ...                  0.0     Senior       Medium   \n",
              "74494                   2.0  ...                  0.0      Entry       Medium   \n",
              "74495                   0.0  ...                  4.0        Mid        Small   \n",
              "74496                   0.0  ...                  3.0        Mid        Large   \n",
              "74497                   1.0  ...                  4.0        Mid        Large   \n",
              "\n",
              "      Company Tenure  Remote Work Leadership Opportunities  \\\n",
              "74493             60           No                       No   \n",
              "74494             20           No                       No   \n",
              "74495              7           No                       No   \n",
              "74496              5           No                       No   \n",
              "74497            118           No                       No   \n",
              "\n",
              "      Innovation Opportunities  Company Reputation Employee Recognition  \\\n",
              "74493                       No                Poor               Medium   \n",
              "74494                       No                Good               Medium   \n",
              "74495                       No                Good                 High   \n",
              "74496                       No                Poor                 High   \n",
              "74497                       No                Good            Very High   \n",
              "\n",
              "      Attrition  \n",
              "74493    Stayed  \n",
              "74494      Left  \n",
              "74495      Left  \n",
              "74496    Stayed  \n",
              "74497      Left  \n",
              "\n",
              "[5 rows x 24 columns]"
            ],
            "text/html": [
              "\n",
              "  <div id=\"df-4860a8ad-2251-496a-a090-07c946ce5349\" class=\"colab-df-container\">\n",
              "    <div>\n",
              "<style scoped>\n",
              "    .dataframe tbody tr th:only-of-type {\n",
              "        vertical-align: middle;\n",
              "    }\n",
              "\n",
              "    .dataframe tbody tr th {\n",
              "        vertical-align: top;\n",
              "    }\n",
              "\n",
              "    .dataframe thead th {\n",
              "        text-align: right;\n",
              "    }\n",
              "</style>\n",
              "<table border=\"1\" class=\"dataframe\">\n",
              "  <thead>\n",
              "    <tr style=\"text-align: right;\">\n",
              "      <th></th>\n",
              "      <th>Employee ID</th>\n",
              "      <th>Age</th>\n",
              "      <th>Gender</th>\n",
              "      <th>Years at Company</th>\n",
              "      <th>Job Role</th>\n",
              "      <th>Monthly Income</th>\n",
              "      <th>Work-Life Balance</th>\n",
              "      <th>Job Satisfaction</th>\n",
              "      <th>Performance Rating</th>\n",
              "      <th>Number of Promotions</th>\n",
              "      <th>...</th>\n",
              "      <th>Number of Dependents</th>\n",
              "      <th>Job Level</th>\n",
              "      <th>Company Size</th>\n",
              "      <th>Company Tenure</th>\n",
              "      <th>Remote Work</th>\n",
              "      <th>Leadership Opportunities</th>\n",
              "      <th>Innovation Opportunities</th>\n",
              "      <th>Company Reputation</th>\n",
              "      <th>Employee Recognition</th>\n",
              "      <th>Attrition</th>\n",
              "    </tr>\n",
              "  </thead>\n",
              "  <tbody>\n",
              "    <tr>\n",
              "      <th>74493</th>\n",
              "      <td>16243</td>\n",
              "      <td>56</td>\n",
              "      <td>Female</td>\n",
              "      <td>42</td>\n",
              "      <td>Healthcare</td>\n",
              "      <td>7830</td>\n",
              "      <td>Poor</td>\n",
              "      <td>Medium</td>\n",
              "      <td>Average</td>\n",
              "      <td>0.0</td>\n",
              "      <td>...</td>\n",
              "      <td>0.0</td>\n",
              "      <td>Senior</td>\n",
              "      <td>Medium</td>\n",
              "      <td>60</td>\n",
              "      <td>No</td>\n",
              "      <td>No</td>\n",
              "      <td>No</td>\n",
              "      <td>Poor</td>\n",
              "      <td>Medium</td>\n",
              "      <td>Stayed</td>\n",
              "    </tr>\n",
              "    <tr>\n",
              "      <th>74494</th>\n",
              "      <td>47175</td>\n",
              "      <td>30</td>\n",
              "      <td>Female</td>\n",
              "      <td>15</td>\n",
              "      <td>Education</td>\n",
              "      <td>3856</td>\n",
              "      <td>Good</td>\n",
              "      <td>Medium</td>\n",
              "      <td>Average</td>\n",
              "      <td>2.0</td>\n",
              "      <td>...</td>\n",
              "      <td>0.0</td>\n",
              "      <td>Entry</td>\n",
              "      <td>Medium</td>\n",
              "      <td>20</td>\n",
              "      <td>No</td>\n",
              "      <td>No</td>\n",
              "      <td>No</td>\n",
              "      <td>Good</td>\n",
              "      <td>Medium</td>\n",
              "      <td>Left</td>\n",
              "    </tr>\n",
              "    <tr>\n",
              "      <th>74495</th>\n",
              "      <td>12409</td>\n",
              "      <td>52</td>\n",
              "      <td>Male</td>\n",
              "      <td>5</td>\n",
              "      <td>Education</td>\n",
              "      <td>5654</td>\n",
              "      <td>Good</td>\n",
              "      <td>Very High</td>\n",
              "      <td>Below Average</td>\n",
              "      <td>0.0</td>\n",
              "      <td>...</td>\n",
              "      <td>4.0</td>\n",
              "      <td>Mid</td>\n",
              "      <td>Small</td>\n",
              "      <td>7</td>\n",
              "      <td>No</td>\n",
              "      <td>No</td>\n",
              "      <td>No</td>\n",
              "      <td>Good</td>\n",
              "      <td>High</td>\n",
              "      <td>Left</td>\n",
              "    </tr>\n",
              "    <tr>\n",
              "      <th>74496</th>\n",
              "      <td>9554</td>\n",
              "      <td>18</td>\n",
              "      <td>Male</td>\n",
              "      <td>4</td>\n",
              "      <td>Education</td>\n",
              "      <td>5276</td>\n",
              "      <td>Fair</td>\n",
              "      <td>High</td>\n",
              "      <td>Average</td>\n",
              "      <td>0.0</td>\n",
              "      <td>...</td>\n",
              "      <td>3.0</td>\n",
              "      <td>Mid</td>\n",
              "      <td>Large</td>\n",
              "      <td>5</td>\n",
              "      <td>No</td>\n",
              "      <td>No</td>\n",
              "      <td>No</td>\n",
              "      <td>Poor</td>\n",
              "      <td>High</td>\n",
              "      <td>Stayed</td>\n",
              "    </tr>\n",
              "    <tr>\n",
              "      <th>74497</th>\n",
              "      <td>73042</td>\n",
              "      <td>59</td>\n",
              "      <td>Female</td>\n",
              "      <td>48</td>\n",
              "      <td>Education</td>\n",
              "      <td>3774</td>\n",
              "      <td>Good</td>\n",
              "      <td>High</td>\n",
              "      <td>Below Average</td>\n",
              "      <td>1.0</td>\n",
              "      <td>...</td>\n",
              "      <td>4.0</td>\n",
              "      <td>Mid</td>\n",
              "      <td>Large</td>\n",
              "      <td>118</td>\n",
              "      <td>No</td>\n",
              "      <td>No</td>\n",
              "      <td>No</td>\n",
              "      <td>Good</td>\n",
              "      <td>Very High</td>\n",
              "      <td>Left</td>\n",
              "    </tr>\n",
              "  </tbody>\n",
              "</table>\n",
              "<p>5 rows × 24 columns</p>\n",
              "</div>\n",
              "    <div class=\"colab-df-buttons\">\n",
              "\n",
              "  <div class=\"colab-df-container\">\n",
              "    <button class=\"colab-df-convert\" onclick=\"convertToInteractive('df-4860a8ad-2251-496a-a090-07c946ce5349')\"\n",
              "            title=\"Convert this dataframe to an interactive table.\"\n",
              "            style=\"display:none;\">\n",
              "\n",
              "  <svg xmlns=\"http://www.w3.org/2000/svg\" height=\"24px\" viewBox=\"0 -960 960 960\">\n",
              "    <path d=\"M120-120v-720h720v720H120Zm60-500h600v-160H180v160Zm220 220h160v-160H400v160Zm0 220h160v-160H400v160ZM180-400h160v-160H180v160Zm440 0h160v-160H620v160ZM180-180h160v-160H180v160Zm440 0h160v-160H620v160Z\"/>\n",
              "  </svg>\n",
              "    </button>\n",
              "\n",
              "  <style>\n",
              "    .colab-df-container {\n",
              "      display:flex;\n",
              "      gap: 12px;\n",
              "    }\n",
              "\n",
              "    .colab-df-convert {\n",
              "      background-color: #E8F0FE;\n",
              "      border: none;\n",
              "      border-radius: 50%;\n",
              "      cursor: pointer;\n",
              "      display: none;\n",
              "      fill: #1967D2;\n",
              "      height: 32px;\n",
              "      padding: 0 0 0 0;\n",
              "      width: 32px;\n",
              "    }\n",
              "\n",
              "    .colab-df-convert:hover {\n",
              "      background-color: #E2EBFA;\n",
              "      box-shadow: 0px 1px 2px rgba(60, 64, 67, 0.3), 0px 1px 3px 1px rgba(60, 64, 67, 0.15);\n",
              "      fill: #174EA6;\n",
              "    }\n",
              "\n",
              "    .colab-df-buttons div {\n",
              "      margin-bottom: 4px;\n",
              "    }\n",
              "\n",
              "    [theme=dark] .colab-df-convert {\n",
              "      background-color: #3B4455;\n",
              "      fill: #D2E3FC;\n",
              "    }\n",
              "\n",
              "    [theme=dark] .colab-df-convert:hover {\n",
              "      background-color: #434B5C;\n",
              "      box-shadow: 0px 1px 3px 1px rgba(0, 0, 0, 0.15);\n",
              "      filter: drop-shadow(0px 1px 2px rgba(0, 0, 0, 0.3));\n",
              "      fill: #FFFFFF;\n",
              "    }\n",
              "  </style>\n",
              "\n",
              "    <script>\n",
              "      const buttonEl =\n",
              "        document.querySelector('#df-4860a8ad-2251-496a-a090-07c946ce5349 button.colab-df-convert');\n",
              "      buttonEl.style.display =\n",
              "        google.colab.kernel.accessAllowed ? 'block' : 'none';\n",
              "\n",
              "      async function convertToInteractive(key) {\n",
              "        const element = document.querySelector('#df-4860a8ad-2251-496a-a090-07c946ce5349');\n",
              "        const dataTable =\n",
              "          await google.colab.kernel.invokeFunction('convertToInteractive',\n",
              "                                                    [key], {});\n",
              "        if (!dataTable) return;\n",
              "\n",
              "        const docLinkHtml = 'Like what you see? Visit the ' +\n",
              "          '<a target=\"_blank\" href=https://colab.research.google.com/notebooks/data_table.ipynb>data table notebook</a>'\n",
              "          + ' to learn more about interactive tables.';\n",
              "        element.innerHTML = '';\n",
              "        dataTable['output_type'] = 'display_data';\n",
              "        await google.colab.output.renderOutput(dataTable, element);\n",
              "        const docLink = document.createElement('div');\n",
              "        docLink.innerHTML = docLinkHtml;\n",
              "        element.appendChild(docLink);\n",
              "      }\n",
              "    </script>\n",
              "  </div>\n",
              "\n",
              "\n",
              "<div id=\"df-d93a85f3-e096-4e1f-bc3b-76845d3bad68\">\n",
              "  <button class=\"colab-df-quickchart\" onclick=\"quickchart('df-d93a85f3-e096-4e1f-bc3b-76845d3bad68')\"\n",
              "            title=\"Suggest charts\"\n",
              "            style=\"display:none;\">\n",
              "\n",
              "<svg xmlns=\"http://www.w3.org/2000/svg\" height=\"24px\"viewBox=\"0 0 24 24\"\n",
              "     width=\"24px\">\n",
              "    <g>\n",
              "        <path d=\"M19 3H5c-1.1 0-2 .9-2 2v14c0 1.1.9 2 2 2h14c1.1 0 2-.9 2-2V5c0-1.1-.9-2-2-2zM9 17H7v-7h2v7zm4 0h-2V7h2v10zm4 0h-2v-4h2v4z\"/>\n",
              "    </g>\n",
              "</svg>\n",
              "  </button>\n",
              "\n",
              "<style>\n",
              "  .colab-df-quickchart {\n",
              "      --bg-color: #E8F0FE;\n",
              "      --fill-color: #1967D2;\n",
              "      --hover-bg-color: #E2EBFA;\n",
              "      --hover-fill-color: #174EA6;\n",
              "      --disabled-fill-color: #AAA;\n",
              "      --disabled-bg-color: #DDD;\n",
              "  }\n",
              "\n",
              "  [theme=dark] .colab-df-quickchart {\n",
              "      --bg-color: #3B4455;\n",
              "      --fill-color: #D2E3FC;\n",
              "      --hover-bg-color: #434B5C;\n",
              "      --hover-fill-color: #FFFFFF;\n",
              "      --disabled-bg-color: #3B4455;\n",
              "      --disabled-fill-color: #666;\n",
              "  }\n",
              "\n",
              "  .colab-df-quickchart {\n",
              "    background-color: var(--bg-color);\n",
              "    border: none;\n",
              "    border-radius: 50%;\n",
              "    cursor: pointer;\n",
              "    display: none;\n",
              "    fill: var(--fill-color);\n",
              "    height: 32px;\n",
              "    padding: 0;\n",
              "    width: 32px;\n",
              "  }\n",
              "\n",
              "  .colab-df-quickchart:hover {\n",
              "    background-color: var(--hover-bg-color);\n",
              "    box-shadow: 0 1px 2px rgba(60, 64, 67, 0.3), 0 1px 3px 1px rgba(60, 64, 67, 0.15);\n",
              "    fill: var(--button-hover-fill-color);\n",
              "  }\n",
              "\n",
              "  .colab-df-quickchart-complete:disabled,\n",
              "  .colab-df-quickchart-complete:disabled:hover {\n",
              "    background-color: var(--disabled-bg-color);\n",
              "    fill: var(--disabled-fill-color);\n",
              "    box-shadow: none;\n",
              "  }\n",
              "\n",
              "  .colab-df-spinner {\n",
              "    border: 2px solid var(--fill-color);\n",
              "    border-color: transparent;\n",
              "    border-bottom-color: var(--fill-color);\n",
              "    animation:\n",
              "      spin 1s steps(1) infinite;\n",
              "  }\n",
              "\n",
              "  @keyframes spin {\n",
              "    0% {\n",
              "      border-color: transparent;\n",
              "      border-bottom-color: var(--fill-color);\n",
              "      border-left-color: var(--fill-color);\n",
              "    }\n",
              "    20% {\n",
              "      border-color: transparent;\n",
              "      border-left-color: var(--fill-color);\n",
              "      border-top-color: var(--fill-color);\n",
              "    }\n",
              "    30% {\n",
              "      border-color: transparent;\n",
              "      border-left-color: var(--fill-color);\n",
              "      border-top-color: var(--fill-color);\n",
              "      border-right-color: var(--fill-color);\n",
              "    }\n",
              "    40% {\n",
              "      border-color: transparent;\n",
              "      border-right-color: var(--fill-color);\n",
              "      border-top-color: var(--fill-color);\n",
              "    }\n",
              "    60% {\n",
              "      border-color: transparent;\n",
              "      border-right-color: var(--fill-color);\n",
              "    }\n",
              "    80% {\n",
              "      border-color: transparent;\n",
              "      border-right-color: var(--fill-color);\n",
              "      border-bottom-color: var(--fill-color);\n",
              "    }\n",
              "    90% {\n",
              "      border-color: transparent;\n",
              "      border-bottom-color: var(--fill-color);\n",
              "    }\n",
              "  }\n",
              "</style>\n",
              "\n",
              "  <script>\n",
              "    async function quickchart(key) {\n",
              "      const quickchartButtonEl =\n",
              "        document.querySelector('#' + key + ' button');\n",
              "      quickchartButtonEl.disabled = true;  // To prevent multiple clicks.\n",
              "      quickchartButtonEl.classList.add('colab-df-spinner');\n",
              "      try {\n",
              "        const charts = await google.colab.kernel.invokeFunction(\n",
              "            'suggestCharts', [key], {});\n",
              "      } catch (error) {\n",
              "        console.error('Error during call to suggestCharts:', error);\n",
              "      }\n",
              "      quickchartButtonEl.classList.remove('colab-df-spinner');\n",
              "      quickchartButtonEl.classList.add('colab-df-quickchart-complete');\n",
              "    }\n",
              "    (() => {\n",
              "      let quickchartButtonEl =\n",
              "        document.querySelector('#df-d93a85f3-e096-4e1f-bc3b-76845d3bad68 button');\n",
              "      quickchartButtonEl.style.display =\n",
              "        google.colab.kernel.accessAllowed ? 'block' : 'none';\n",
              "    })();\n",
              "  </script>\n",
              "</div>\n",
              "\n",
              "    </div>\n",
              "  </div>\n"
            ],
            "application/vnd.google.colaboratory.intrinsic+json": {
              "type": "dataframe"
            }
          },
          "metadata": {},
          "execution_count": 4
        }
      ]
    },
    {
      "cell_type": "code",
      "source": [
        "data.shape"
      ],
      "metadata": {
        "colab": {
          "base_uri": "https://localhost:8080/"
        },
        "id": "L0Brt2yBjEPr",
        "outputId": "dc46f48a-a848-43a4-dbd2-8cdd54ed0a5e"
      },
      "execution_count": 5,
      "outputs": [
        {
          "output_type": "execute_result",
          "data": {
            "text/plain": [
              "(74498, 24)"
            ]
          },
          "metadata": {},
          "execution_count": 5
        }
      ]
    },
    {
      "cell_type": "code",
      "source": [
        "data.columns"
      ],
      "metadata": {
        "colab": {
          "base_uri": "https://localhost:8080/"
        },
        "id": "RZdpcAZij3K1",
        "outputId": "28a8b623-8f5a-4f45-80ed-766461aa689c"
      },
      "execution_count": 6,
      "outputs": [
        {
          "output_type": "execute_result",
          "data": {
            "text/plain": [
              "Index(['Employee ID', 'Age', 'Gender', 'Years at Company', 'Job Role',\n",
              "       'Monthly Income', 'Work-Life Balance', 'Job Satisfaction',\n",
              "       'Performance Rating', 'Number of Promotions', 'Overtime',\n",
              "       'Distance from Home', 'Education Level', 'Marital Status',\n",
              "       'Number of Dependents', 'Job Level', 'Company Size', 'Company Tenure',\n",
              "       'Remote Work', 'Leadership Opportunities', 'Innovation Opportunities',\n",
              "       'Company Reputation', 'Employee Recognition', 'Attrition'],\n",
              "      dtype='object')"
            ]
          },
          "metadata": {},
          "execution_count": 6
        }
      ]
    },
    {
      "cell_type": "code",
      "source": [
        "data.info()"
      ],
      "metadata": {
        "colab": {
          "base_uri": "https://localhost:8080/"
        },
        "id": "fdgq3QGEjGmS",
        "outputId": "09c324a5-f1f2-4f14-e95c-9e9a716685df"
      },
      "execution_count": 7,
      "outputs": [
        {
          "output_type": "stream",
          "name": "stdout",
          "text": [
            "<class 'pandas.core.frame.DataFrame'>\n",
            "RangeIndex: 74498 entries, 0 to 74497\n",
            "Data columns (total 24 columns):\n",
            " #   Column                    Non-Null Count  Dtype  \n",
            "---  ------                    --------------  -----  \n",
            " 0   Employee ID               74498 non-null  int64  \n",
            " 1   Age                       74498 non-null  int64  \n",
            " 2   Gender                    74498 non-null  object \n",
            " 3   Years at Company          74498 non-null  int64  \n",
            " 4   Job Role                  74498 non-null  object \n",
            " 5   Monthly Income            74498 non-null  int64  \n",
            " 6   Work-Life Balance         74494 non-null  object \n",
            " 7   Job Satisfaction          74498 non-null  object \n",
            " 8   Performance Rating        74494 non-null  object \n",
            " 9   Number of Promotions      74493 non-null  float64\n",
            " 10  Overtime                  74498 non-null  object \n",
            " 11  Distance from Home        74498 non-null  int64  \n",
            " 12  Education Level           74493 non-null  object \n",
            " 13  Marital Status            74494 non-null  object \n",
            " 14  Number of Dependents      74492 non-null  float64\n",
            " 15  Job Level                 74493 non-null  object \n",
            " 16  Company Size              74496 non-null  object \n",
            " 17  Company Tenure            74498 non-null  int64  \n",
            " 18  Remote Work               74495 non-null  object \n",
            " 19  Leadership Opportunities  74498 non-null  object \n",
            " 20  Innovation Opportunities  74498 non-null  object \n",
            " 21  Company Reputation        74498 non-null  object \n",
            " 22  Employee Recognition      74496 non-null  object \n",
            " 23  Attrition                 74498 non-null  object \n",
            "dtypes: float64(2), int64(6), object(16)\n",
            "memory usage: 13.6+ MB\n"
          ]
        }
      ]
    },
    {
      "cell_type": "markdown",
      "source": [
        "Dataset contain 24 columns,\n",
        "Categorical columns-16\n",
        "Numerical columns-7"
      ],
      "metadata": {
        "id": "0_K1mesw5C03"
      }
    },
    {
      "cell_type": "code",
      "source": [
        "data.describe()"
      ],
      "metadata": {
        "colab": {
          "base_uri": "https://localhost:8080/",
          "height": 300
        },
        "id": "D509Y03JjWjg",
        "outputId": "78b712e1-4e98-4994-fbf1-43ffe316570b"
      },
      "execution_count": 8,
      "outputs": [
        {
          "output_type": "execute_result",
          "data": {
            "text/plain": [
              "        Employee ID           Age  Years at Company  Monthly Income  \\\n",
              "count  74498.000000  74498.000000      74498.000000    74498.000000   \n",
              "mean   37249.500000     38.529746         15.721603     7299.379514   \n",
              "std    21505.864514     12.083456         11.223744     2152.508566   \n",
              "min        1.000000     18.000000          1.000000     1226.000000   \n",
              "25%    18625.250000     28.000000          7.000000     5652.000000   \n",
              "50%    37249.500000     39.000000         13.000000     7348.000000   \n",
              "75%    55873.750000     49.000000         23.000000     8876.000000   \n",
              "max    74498.000000     59.000000         51.000000    16149.000000   \n",
              "\n",
              "       Number of Promotions  Distance from Home  Number of Dependents  \\\n",
              "count          74493.000000        74498.000000          74492.000000   \n",
              "mean               0.832978           49.991584              1.650365   \n",
              "std                0.995303           28.513611              1.553660   \n",
              "min                0.000000            1.000000              0.000000   \n",
              "25%                0.000000           25.000000              0.000000   \n",
              "50%                1.000000           50.000000              1.000000   \n",
              "75%                2.000000           75.000000              3.000000   \n",
              "max                4.000000           99.000000              6.000000   \n",
              "\n",
              "       Company Tenure  \n",
              "count    74498.000000  \n",
              "mean        55.727456  \n",
              "std         25.399349  \n",
              "min          2.000000  \n",
              "25%         36.000000  \n",
              "50%         56.000000  \n",
              "75%         76.000000  \n",
              "max        128.000000  "
            ],
            "text/html": [
              "\n",
              "  <div id=\"df-02b7dfd1-29cd-48bb-8b02-7814a6bbd717\" class=\"colab-df-container\">\n",
              "    <div>\n",
              "<style scoped>\n",
              "    .dataframe tbody tr th:only-of-type {\n",
              "        vertical-align: middle;\n",
              "    }\n",
              "\n",
              "    .dataframe tbody tr th {\n",
              "        vertical-align: top;\n",
              "    }\n",
              "\n",
              "    .dataframe thead th {\n",
              "        text-align: right;\n",
              "    }\n",
              "</style>\n",
              "<table border=\"1\" class=\"dataframe\">\n",
              "  <thead>\n",
              "    <tr style=\"text-align: right;\">\n",
              "      <th></th>\n",
              "      <th>Employee ID</th>\n",
              "      <th>Age</th>\n",
              "      <th>Years at Company</th>\n",
              "      <th>Monthly Income</th>\n",
              "      <th>Number of Promotions</th>\n",
              "      <th>Distance from Home</th>\n",
              "      <th>Number of Dependents</th>\n",
              "      <th>Company Tenure</th>\n",
              "    </tr>\n",
              "  </thead>\n",
              "  <tbody>\n",
              "    <tr>\n",
              "      <th>count</th>\n",
              "      <td>74498.000000</td>\n",
              "      <td>74498.000000</td>\n",
              "      <td>74498.000000</td>\n",
              "      <td>74498.000000</td>\n",
              "      <td>74493.000000</td>\n",
              "      <td>74498.000000</td>\n",
              "      <td>74492.000000</td>\n",
              "      <td>74498.000000</td>\n",
              "    </tr>\n",
              "    <tr>\n",
              "      <th>mean</th>\n",
              "      <td>37249.500000</td>\n",
              "      <td>38.529746</td>\n",
              "      <td>15.721603</td>\n",
              "      <td>7299.379514</td>\n",
              "      <td>0.832978</td>\n",
              "      <td>49.991584</td>\n",
              "      <td>1.650365</td>\n",
              "      <td>55.727456</td>\n",
              "    </tr>\n",
              "    <tr>\n",
              "      <th>std</th>\n",
              "      <td>21505.864514</td>\n",
              "      <td>12.083456</td>\n",
              "      <td>11.223744</td>\n",
              "      <td>2152.508566</td>\n",
              "      <td>0.995303</td>\n",
              "      <td>28.513611</td>\n",
              "      <td>1.553660</td>\n",
              "      <td>25.399349</td>\n",
              "    </tr>\n",
              "    <tr>\n",
              "      <th>min</th>\n",
              "      <td>1.000000</td>\n",
              "      <td>18.000000</td>\n",
              "      <td>1.000000</td>\n",
              "      <td>1226.000000</td>\n",
              "      <td>0.000000</td>\n",
              "      <td>1.000000</td>\n",
              "      <td>0.000000</td>\n",
              "      <td>2.000000</td>\n",
              "    </tr>\n",
              "    <tr>\n",
              "      <th>25%</th>\n",
              "      <td>18625.250000</td>\n",
              "      <td>28.000000</td>\n",
              "      <td>7.000000</td>\n",
              "      <td>5652.000000</td>\n",
              "      <td>0.000000</td>\n",
              "      <td>25.000000</td>\n",
              "      <td>0.000000</td>\n",
              "      <td>36.000000</td>\n",
              "    </tr>\n",
              "    <tr>\n",
              "      <th>50%</th>\n",
              "      <td>37249.500000</td>\n",
              "      <td>39.000000</td>\n",
              "      <td>13.000000</td>\n",
              "      <td>7348.000000</td>\n",
              "      <td>1.000000</td>\n",
              "      <td>50.000000</td>\n",
              "      <td>1.000000</td>\n",
              "      <td>56.000000</td>\n",
              "    </tr>\n",
              "    <tr>\n",
              "      <th>75%</th>\n",
              "      <td>55873.750000</td>\n",
              "      <td>49.000000</td>\n",
              "      <td>23.000000</td>\n",
              "      <td>8876.000000</td>\n",
              "      <td>2.000000</td>\n",
              "      <td>75.000000</td>\n",
              "      <td>3.000000</td>\n",
              "      <td>76.000000</td>\n",
              "    </tr>\n",
              "    <tr>\n",
              "      <th>max</th>\n",
              "      <td>74498.000000</td>\n",
              "      <td>59.000000</td>\n",
              "      <td>51.000000</td>\n",
              "      <td>16149.000000</td>\n",
              "      <td>4.000000</td>\n",
              "      <td>99.000000</td>\n",
              "      <td>6.000000</td>\n",
              "      <td>128.000000</td>\n",
              "    </tr>\n",
              "  </tbody>\n",
              "</table>\n",
              "</div>\n",
              "    <div class=\"colab-df-buttons\">\n",
              "\n",
              "  <div class=\"colab-df-container\">\n",
              "    <button class=\"colab-df-convert\" onclick=\"convertToInteractive('df-02b7dfd1-29cd-48bb-8b02-7814a6bbd717')\"\n",
              "            title=\"Convert this dataframe to an interactive table.\"\n",
              "            style=\"display:none;\">\n",
              "\n",
              "  <svg xmlns=\"http://www.w3.org/2000/svg\" height=\"24px\" viewBox=\"0 -960 960 960\">\n",
              "    <path d=\"M120-120v-720h720v720H120Zm60-500h600v-160H180v160Zm220 220h160v-160H400v160Zm0 220h160v-160H400v160ZM180-400h160v-160H180v160Zm440 0h160v-160H620v160ZM180-180h160v-160H180v160Zm440 0h160v-160H620v160Z\"/>\n",
              "  </svg>\n",
              "    </button>\n",
              "\n",
              "  <style>\n",
              "    .colab-df-container {\n",
              "      display:flex;\n",
              "      gap: 12px;\n",
              "    }\n",
              "\n",
              "    .colab-df-convert {\n",
              "      background-color: #E8F0FE;\n",
              "      border: none;\n",
              "      border-radius: 50%;\n",
              "      cursor: pointer;\n",
              "      display: none;\n",
              "      fill: #1967D2;\n",
              "      height: 32px;\n",
              "      padding: 0 0 0 0;\n",
              "      width: 32px;\n",
              "    }\n",
              "\n",
              "    .colab-df-convert:hover {\n",
              "      background-color: #E2EBFA;\n",
              "      box-shadow: 0px 1px 2px rgba(60, 64, 67, 0.3), 0px 1px 3px 1px rgba(60, 64, 67, 0.15);\n",
              "      fill: #174EA6;\n",
              "    }\n",
              "\n",
              "    .colab-df-buttons div {\n",
              "      margin-bottom: 4px;\n",
              "    }\n",
              "\n",
              "    [theme=dark] .colab-df-convert {\n",
              "      background-color: #3B4455;\n",
              "      fill: #D2E3FC;\n",
              "    }\n",
              "\n",
              "    [theme=dark] .colab-df-convert:hover {\n",
              "      background-color: #434B5C;\n",
              "      box-shadow: 0px 1px 3px 1px rgba(0, 0, 0, 0.15);\n",
              "      filter: drop-shadow(0px 1px 2px rgba(0, 0, 0, 0.3));\n",
              "      fill: #FFFFFF;\n",
              "    }\n",
              "  </style>\n",
              "\n",
              "    <script>\n",
              "      const buttonEl =\n",
              "        document.querySelector('#df-02b7dfd1-29cd-48bb-8b02-7814a6bbd717 button.colab-df-convert');\n",
              "      buttonEl.style.display =\n",
              "        google.colab.kernel.accessAllowed ? 'block' : 'none';\n",
              "\n",
              "      async function convertToInteractive(key) {\n",
              "        const element = document.querySelector('#df-02b7dfd1-29cd-48bb-8b02-7814a6bbd717');\n",
              "        const dataTable =\n",
              "          await google.colab.kernel.invokeFunction('convertToInteractive',\n",
              "                                                    [key], {});\n",
              "        if (!dataTable) return;\n",
              "\n",
              "        const docLinkHtml = 'Like what you see? Visit the ' +\n",
              "          '<a target=\"_blank\" href=https://colab.research.google.com/notebooks/data_table.ipynb>data table notebook</a>'\n",
              "          + ' to learn more about interactive tables.';\n",
              "        element.innerHTML = '';\n",
              "        dataTable['output_type'] = 'display_data';\n",
              "        await google.colab.output.renderOutput(dataTable, element);\n",
              "        const docLink = document.createElement('div');\n",
              "        docLink.innerHTML = docLinkHtml;\n",
              "        element.appendChild(docLink);\n",
              "      }\n",
              "    </script>\n",
              "  </div>\n",
              "\n",
              "\n",
              "<div id=\"df-a9fda5ad-6493-4f2e-9ed5-ad8d51041ac6\">\n",
              "  <button class=\"colab-df-quickchart\" onclick=\"quickchart('df-a9fda5ad-6493-4f2e-9ed5-ad8d51041ac6')\"\n",
              "            title=\"Suggest charts\"\n",
              "            style=\"display:none;\">\n",
              "\n",
              "<svg xmlns=\"http://www.w3.org/2000/svg\" height=\"24px\"viewBox=\"0 0 24 24\"\n",
              "     width=\"24px\">\n",
              "    <g>\n",
              "        <path d=\"M19 3H5c-1.1 0-2 .9-2 2v14c0 1.1.9 2 2 2h14c1.1 0 2-.9 2-2V5c0-1.1-.9-2-2-2zM9 17H7v-7h2v7zm4 0h-2V7h2v10zm4 0h-2v-4h2v4z\"/>\n",
              "    </g>\n",
              "</svg>\n",
              "  </button>\n",
              "\n",
              "<style>\n",
              "  .colab-df-quickchart {\n",
              "      --bg-color: #E8F0FE;\n",
              "      --fill-color: #1967D2;\n",
              "      --hover-bg-color: #E2EBFA;\n",
              "      --hover-fill-color: #174EA6;\n",
              "      --disabled-fill-color: #AAA;\n",
              "      --disabled-bg-color: #DDD;\n",
              "  }\n",
              "\n",
              "  [theme=dark] .colab-df-quickchart {\n",
              "      --bg-color: #3B4455;\n",
              "      --fill-color: #D2E3FC;\n",
              "      --hover-bg-color: #434B5C;\n",
              "      --hover-fill-color: #FFFFFF;\n",
              "      --disabled-bg-color: #3B4455;\n",
              "      --disabled-fill-color: #666;\n",
              "  }\n",
              "\n",
              "  .colab-df-quickchart {\n",
              "    background-color: var(--bg-color);\n",
              "    border: none;\n",
              "    border-radius: 50%;\n",
              "    cursor: pointer;\n",
              "    display: none;\n",
              "    fill: var(--fill-color);\n",
              "    height: 32px;\n",
              "    padding: 0;\n",
              "    width: 32px;\n",
              "  }\n",
              "\n",
              "  .colab-df-quickchart:hover {\n",
              "    background-color: var(--hover-bg-color);\n",
              "    box-shadow: 0 1px 2px rgba(60, 64, 67, 0.3), 0 1px 3px 1px rgba(60, 64, 67, 0.15);\n",
              "    fill: var(--button-hover-fill-color);\n",
              "  }\n",
              "\n",
              "  .colab-df-quickchart-complete:disabled,\n",
              "  .colab-df-quickchart-complete:disabled:hover {\n",
              "    background-color: var(--disabled-bg-color);\n",
              "    fill: var(--disabled-fill-color);\n",
              "    box-shadow: none;\n",
              "  }\n",
              "\n",
              "  .colab-df-spinner {\n",
              "    border: 2px solid var(--fill-color);\n",
              "    border-color: transparent;\n",
              "    border-bottom-color: var(--fill-color);\n",
              "    animation:\n",
              "      spin 1s steps(1) infinite;\n",
              "  }\n",
              "\n",
              "  @keyframes spin {\n",
              "    0% {\n",
              "      border-color: transparent;\n",
              "      border-bottom-color: var(--fill-color);\n",
              "      border-left-color: var(--fill-color);\n",
              "    }\n",
              "    20% {\n",
              "      border-color: transparent;\n",
              "      border-left-color: var(--fill-color);\n",
              "      border-top-color: var(--fill-color);\n",
              "    }\n",
              "    30% {\n",
              "      border-color: transparent;\n",
              "      border-left-color: var(--fill-color);\n",
              "      border-top-color: var(--fill-color);\n",
              "      border-right-color: var(--fill-color);\n",
              "    }\n",
              "    40% {\n",
              "      border-color: transparent;\n",
              "      border-right-color: var(--fill-color);\n",
              "      border-top-color: var(--fill-color);\n",
              "    }\n",
              "    60% {\n",
              "      border-color: transparent;\n",
              "      border-right-color: var(--fill-color);\n",
              "    }\n",
              "    80% {\n",
              "      border-color: transparent;\n",
              "      border-right-color: var(--fill-color);\n",
              "      border-bottom-color: var(--fill-color);\n",
              "    }\n",
              "    90% {\n",
              "      border-color: transparent;\n",
              "      border-bottom-color: var(--fill-color);\n",
              "    }\n",
              "  }\n",
              "</style>\n",
              "\n",
              "  <script>\n",
              "    async function quickchart(key) {\n",
              "      const quickchartButtonEl =\n",
              "        document.querySelector('#' + key + ' button');\n",
              "      quickchartButtonEl.disabled = true;  // To prevent multiple clicks.\n",
              "      quickchartButtonEl.classList.add('colab-df-spinner');\n",
              "      try {\n",
              "        const charts = await google.colab.kernel.invokeFunction(\n",
              "            'suggestCharts', [key], {});\n",
              "      } catch (error) {\n",
              "        console.error('Error during call to suggestCharts:', error);\n",
              "      }\n",
              "      quickchartButtonEl.classList.remove('colab-df-spinner');\n",
              "      quickchartButtonEl.classList.add('colab-df-quickchart-complete');\n",
              "    }\n",
              "    (() => {\n",
              "      let quickchartButtonEl =\n",
              "        document.querySelector('#df-a9fda5ad-6493-4f2e-9ed5-ad8d51041ac6 button');\n",
              "      quickchartButtonEl.style.display =\n",
              "        google.colab.kernel.accessAllowed ? 'block' : 'none';\n",
              "    })();\n",
              "  </script>\n",
              "</div>\n",
              "\n",
              "    </div>\n",
              "  </div>\n"
            ],
            "application/vnd.google.colaboratory.intrinsic+json": {
              "type": "dataframe",
              "summary": "{\n  \"name\": \"data\",\n  \"rows\": 8,\n  \"fields\": [\n    {\n      \"column\": \"Employee ID\",\n      \"properties\": {\n        \"dtype\": \"number\",\n        \"std\": 26849.13483965454,\n        \"min\": 1.0,\n        \"max\": 74498.0,\n        \"num_unique_values\": 6,\n        \"samples\": [\n          74498.0,\n          37249.5,\n          55873.75\n        ],\n        \"semantic_type\": \"\",\n        \"description\": \"\"\n      }\n    },\n    {\n      \"column\": \"Age\",\n      \"properties\": {\n        \"dtype\": \"number\",\n        \"std\": 26326.720680563296,\n        \"min\": 12.08345622204877,\n        \"max\": 74498.0,\n        \"num_unique_values\": 8,\n        \"samples\": [\n          38.52974576498698,\n          39.0,\n          74498.0\n        ],\n        \"semantic_type\": \"\",\n        \"description\": \"\"\n      }\n    },\n    {\n      \"column\": \"Years at Company\",\n      \"properties\": {\n        \"dtype\": \"number\",\n        \"std\": 26332.865656242106,\n        \"min\": 1.0,\n        \"max\": 74498.0,\n        \"num_unique_values\": 8,\n        \"samples\": [\n          15.721603264517169,\n          13.0,\n          74498.0\n        ],\n        \"semantic_type\": \"\",\n        \"description\": \"\"\n      }\n    },\n    {\n      \"column\": \"Monthly Income\",\n      \"properties\": {\n        \"dtype\": \"number\",\n        \"std\": 24312.17727356307,\n        \"min\": 1226.0,\n        \"max\": 74498.0,\n        \"num_unique_values\": 8,\n        \"samples\": [\n          7299.379513543988,\n          7348.0,\n          74498.0\n        ],\n        \"semantic_type\": \"\",\n        \"description\": \"\"\n      }\n    },\n    {\n      \"column\": \"Number of Promotions\",\n      \"properties\": {\n        \"dtype\": \"number\",\n        \"std\": 26336.806861271267,\n        \"min\": 0.0,\n        \"max\": 74493.0,\n        \"num_unique_values\": 7,\n        \"samples\": [\n          74493.0,\n          0.8329775952102882,\n          2.0\n        ],\n        \"semantic_type\": \"\",\n        \"description\": \"\"\n      }\n    },\n    {\n      \"column\": \"Distance from Home\",\n      \"properties\": {\n        \"dtype\": \"number\",\n        \"std\": 26322.44597089118,\n        \"min\": 1.0,\n        \"max\": 74498.0,\n        \"num_unique_values\": 8,\n        \"samples\": [\n          49.991583666675616,\n          50.0,\n          74498.0\n        ],\n        \"semantic_type\": \"\",\n        \"description\": \"\"\n      }\n    },\n    {\n      \"column\": \"Number of Dependents\",\n      \"properties\": {\n        \"dtype\": \"number\",\n        \"std\": 26336.23233924628,\n        \"min\": 0.0,\n        \"max\": 74492.0,\n        \"num_unique_values\": 7,\n        \"samples\": [\n          74492.0,\n          1.6503651398807926,\n          3.0\n        ],\n        \"semantic_type\": \"\",\n        \"description\": \"\"\n      }\n    },\n    {\n      \"column\": \"Company Tenure\",\n      \"properties\": {\n        \"dtype\": \"number\",\n        \"std\": 26319.89832769679,\n        \"min\": 2.0,\n        \"max\": 74498.0,\n        \"num_unique_values\": 8,\n        \"samples\": [\n          55.727455770624715,\n          56.0,\n          74498.0\n        ],\n        \"semantic_type\": \"\",\n        \"description\": \"\"\n      }\n    }\n  ]\n}"
            }
          },
          "metadata": {},
          "execution_count": 8
        }
      ]
    },
    {
      "cell_type": "code",
      "source": [
        "data.dtypes"
      ],
      "metadata": {
        "colab": {
          "base_uri": "https://localhost:8080/"
        },
        "id": "w4VMJgHPjYj3",
        "outputId": "34eb9691-95de-449c-f8b0-04615b9dac90"
      },
      "execution_count": 9,
      "outputs": [
        {
          "output_type": "execute_result",
          "data": {
            "text/plain": [
              "Employee ID                   int64\n",
              "Age                           int64\n",
              "Gender                       object\n",
              "Years at Company              int64\n",
              "Job Role                     object\n",
              "Monthly Income                int64\n",
              "Work-Life Balance            object\n",
              "Job Satisfaction             object\n",
              "Performance Rating           object\n",
              "Number of Promotions        float64\n",
              "Overtime                     object\n",
              "Distance from Home            int64\n",
              "Education Level              object\n",
              "Marital Status               object\n",
              "Number of Dependents        float64\n",
              "Job Level                    object\n",
              "Company Size                 object\n",
              "Company Tenure                int64\n",
              "Remote Work                  object\n",
              "Leadership Opportunities     object\n",
              "Innovation Opportunities     object\n",
              "Company Reputation           object\n",
              "Employee Recognition         object\n",
              "Attrition                    object\n",
              "dtype: object"
            ]
          },
          "metadata": {},
          "execution_count": 9
        }
      ]
    },
    {
      "cell_type": "markdown",
      "source": [
        "## **Exploratory Data Analysis**"
      ],
      "metadata": {
        "id": "xhqnb9girzMb"
      }
    },
    {
      "cell_type": "markdown",
      "source": [
        "### **Attrition- target column analysis**\n"
      ],
      "metadata": {
        "id": "cqw4NLMAr_m1"
      }
    },
    {
      "cell_type": "code",
      "source": [
        "data['Attrition'].value_counts()"
      ],
      "metadata": {
        "colab": {
          "base_uri": "https://localhost:8080/"
        },
        "id": "MBCL45xir5OS",
        "outputId": "d1d56721-9c5a-4564-8c20-3d2c4ad643f9"
      },
      "execution_count": 10,
      "outputs": [
        {
          "output_type": "execute_result",
          "data": {
            "text/plain": [
              "Attrition\n",
              "Stayed    39128\n",
              "Left      35370\n",
              "Name: count, dtype: int64"
            ]
          },
          "metadata": {},
          "execution_count": 10
        }
      ]
    },
    {
      "cell_type": "code",
      "source": [
        "# Plotting Attrition\n",
        "Attrition = data['Attrition']\n",
        "\n",
        "plt.figure(figsize = (10, 6))\n",
        "plt.hist(Attrition, bins = 20, color = 'lightpink', edgecolor = 'black')\n",
        "plt.title('Distribution of Attrition')\n",
        "plt.xlabel('Attrition')\n",
        "plt.ylabel('Frequency')\n",
        "plt.grid(False)\n",
        "plt.show()"
      ],
      "metadata": {
        "colab": {
          "base_uri": "https://localhost:8080/",
          "height": 564
        },
        "id": "BJzVRMfqsY0r",
        "outputId": "4daedfcb-4524-4800-f40c-d723e93728aa"
      },
      "execution_count": 11,
      "outputs": [
        {
          "output_type": "display_data",
          "data": {
            "text/plain": [
              "<Figure size 1000x600 with 1 Axes>"
            ],
            "image/png": "[encoded data removed]"
          },
          "metadata": {}
        }
      ]
    },
    {
      "cell_type": "code",
      "source": [
        "#Gender vs count\n",
        "data['Gender'].value_counts().plot(kind='bar',color=['green','blue'])\n",
        "plt.title('Gender')\n",
        "plt.xlabel('Gender')\n",
        "plt.ylabel('count')\n",
        "plt.xticks(rotation=0)\n",
        "plt.show()\n",
        "\n",
        "\n",
        "\n"
      ],
      "metadata": {
        "colab": {
          "base_uri": "https://localhost:8080/",
          "height": 472
        },
        "id": "YHAYR_hQuRsG",
        "outputId": "82b26509-c654-4dde-bc3d-52e4311a6ea0"
      },
      "execution_count": 12,
      "outputs": [
        {
          "output_type": "display_data",
          "data": {
            "text/plain": [
              "<Figure size 640x480 with 1 Axes>"
            ],
            "image/png": "[encoded data removed]"
          },
          "metadata": {}
        }
      ]
    },
    {
      "cell_type": "code",
      "source": [
        "#Relationship between Gender and Attrition\n",
        "plt.figure(figsize=(12,6))\n",
        "plt.subplot(1,2,1)\n",
        "sns.countplot(x='Gender',hue='Attrition',data=data,palette='pastel')\n",
        "plt.title('Gender by Attrition')\n",
        "plt.show()"
      ],
      "metadata": {
        "colab": {
          "base_uri": "https://localhost:8080/",
          "height": 564
        },
        "id": "DXiH1rphupyx",
        "outputId": "3f8d82b8-6a85-46aa-bb02-46ea583e8257"
      },
      "execution_count": 13,
      "outputs": [
        {
          "output_type": "display_data",
          "data": {
            "text/plain": [
              "<Figure size 1200x600 with 1 Axes>"
            ],
            "image/png": "[encoded data removed]"
          },
          "metadata": {}
        }
      ]
    },
    {
      "cell_type": "code",
      "source": [
        "#Pie chart for Job Role\n",
        "plt.figure(figsize=(6,4))\n",
        "data['Job Role'].value_counts().plot(kind='pie',autopct='%1.1f%%',colors=['lightgreen','lightcoral'])\n",
        "plt.title('Job Role')\n",
        "plt.ylabel('')\n",
        "plt.show()\n"
      ],
      "metadata": {
        "colab": {
          "base_uri": "https://localhost:8080/",
          "height": 367
        },
        "id": "W_ffrTCfveB8",
        "outputId": "ba5d94dc-c79b-4ca3-9ddd-b76cb16f4d11"
      },
      "execution_count": 14,
      "outputs": [
        {
          "output_type": "display_data",
          "data": {
            "text/plain": [
              "<Figure size 600x400 with 1 Axes>"
            ],
            "image/png": "[encoded data removed]"
          },
          "metadata": {}
        }
      ]
    },
    {
      "cell_type": "code",
      "source": [
        "#Relationship between Job Role and Attrition\n",
        "plt.figure(figsize=(12,6))\n",
        "plt.subplot(1,2,1)\n",
        "sns.countplot(x='Job Role',hue='Attrition',data=data,palette='pastel')\n",
        "plt.title('Job Role by Attrition')\n",
        "plt.show()"
      ],
      "metadata": {
        "colab": {
          "base_uri": "https://localhost:8080/",
          "height": 564
        },
        "id": "5lPPbkELwHYV",
        "outputId": "2ad8b8c1-a0d0-4cb2-8bf5-f845625c5ade"
      },
      "execution_count": 15,
      "outputs": [
        {
          "output_type": "display_data",
          "data": {
            "text/plain": [
              "<Figure size 1200x600 with 1 Axes>"
            ],
            "image/png": "[encoded data removed]"
          },
          "metadata": {}
        }
      ]
    },
    {
      "cell_type": "code",
      "source": [
        "#Relationship between Marital Status and Attrition\n",
        "plt.figure(figsize=(12,6))\n",
        "plt.subplot(1,2,1)\n",
        "sns.countplot(x='Marital Status',hue='Attrition',data=data,palette='Set1')\n",
        "plt.title('Marital Status by Attrition')\n",
        "plt.show()"
      ],
      "metadata": {
        "colab": {
          "base_uri": "https://localhost:8080/",
          "height": 564
        },
        "id": "jMSQRUgCwkbN",
        "outputId": "ac40d864-0a4b-405a-d1a0-8c4091a66635"
      },
      "execution_count": 16,
      "outputs": [
        {
          "output_type": "display_data",
          "data": {
            "text/plain": [
              "<Figure size 1200x600 with 1 Axes>"
            ],
            "image/png": "[encoded data removed]"
          },
          "metadata": {}
        }
      ]
    },
    {
      "cell_type": "code",
      "source": [
        "#Relationship between Performance Rating and Attrition\n",
        "plt.figure(figsize=(12,6))\n",
        "plt.subplot(1,2,1)\n",
        "sns.countplot(x='Performance Rating',hue='Attrition',data=data,palette='Set1')\n",
        "plt.title('Performance Rating by Attrition')\n",
        "plt.show()"
      ],
      "metadata": {
        "colab": {
          "base_uri": "https://localhost:8080/",
          "height": 564
        },
        "id": "cqyCz8Q6yK1S",
        "outputId": "154e2c4a-3301-4117-8c39-9465af43ea53"
      },
      "execution_count": 17,
      "outputs": [
        {
          "output_type": "display_data",
          "data": {
            "text/plain": [
              "<Figure size 1200x600 with 1 Axes>"
            ],
            "image/png": "[encoded data removed]"
          },
          "metadata": {}
        }
      ]
    },
    {
      "cell_type": "code",
      "source": [
        "#Relationship between Overtime and Attrition\n",
        "plt.figure(figsize=(12,6))\n",
        "plt.subplot(1,2,1)\n",
        "sns.countplot(x='Overtime',hue='Attrition',data=data,palette='Set1')\n",
        "plt.title('Overtime by Attrition')\n",
        "plt.show()"
      ],
      "metadata": {
        "colab": {
          "base_uri": "https://localhost:8080/",
          "height": 564
        },
        "id": "lc2fv7YiyneV",
        "outputId": "c3b1dac5-3e7a-477e-d873-2d953aee2a6c"
      },
      "execution_count": 18,
      "outputs": [
        {
          "output_type": "display_data",
          "data": {
            "text/plain": [
              "<Figure size 1200x600 with 1 Axes>"
            ],
            "image/png": "[encoded data removed]"
          },
          "metadata": {}
        }
      ]
    },
    {
      "cell_type": "code",
      "source": [
        "#Relationship between Employee Recognition and Attrition\n",
        "plt.figure(figsize=(12,6))\n",
        "plt.subplot(1,2,1)\n",
        "sns.countplot(x='Employee Recognition',hue='Attrition',data=data,palette='Set1')\n",
        "plt.title('Employee Recognition by Attrition')\n",
        "plt.show()"
      ],
      "metadata": {
        "colab": {
          "base_uri": "https://localhost:8080/",
          "height": 564
        },
        "id": "M18r7WDsy5-4",
        "outputId": "fd5a71c0-cea6-4b6d-b9bf-d7839d6c0973"
      },
      "execution_count": 19,
      "outputs": [
        {
          "output_type": "display_data",
          "data": {
            "text/plain": [
              "<Figure size 1200x600 with 1 Axes>"
            ],
            "image/png": "[encoded data removed]"
          },
          "metadata": {}
        }
      ]
    },
    {
      "cell_type": "code",
      "source": [
        "#Relationship between Company Size and Attrition\n",
        "plt.figure(figsize=(12,6))\n",
        "plt.subplot(1,2,1)\n",
        "sns.countplot(x='Company Size',hue='Attrition',data=data,palette='Set1')\n",
        "plt.title('Company Size by Attrition')\n",
        "plt.show()"
      ],
      "metadata": {
        "colab": {
          "base_uri": "https://localhost:8080/",
          "height": 564
        },
        "id": "FKvMCRx_zRbv",
        "outputId": "35cfc9ad-fc71-43c8-84c3-8cf2911a6dd6"
      },
      "execution_count": 20,
      "outputs": [
        {
          "output_type": "display_data",
          "data": {
            "text/plain": [
              "<Figure size 1200x600 with 1 Axes>"
            ],
            "image/png": "[encoded data removed]"
          },
          "metadata": {}
        }
      ]
    },
    {
      "cell_type": "markdown",
      "source": [
        "# **Data Preprocessing**"
      ],
      "metadata": {
        "id": "I2Qqc7blnGQ_"
      }
    },
    {
      "cell_type": "code",
      "source": [
        "#checking null values\n",
        "data.isna().sum()"
      ],
      "metadata": {
        "colab": {
          "base_uri": "https://localhost:8080/"
        },
        "id": "vka1X0GnmX0_",
        "outputId": "979a4475-19ac-4115-8c45-d0ec0a60d62b"
      },
      "execution_count": 21,
      "outputs": [
        {
          "output_type": "execute_result",
          "data": {
            "text/plain": [
              "Employee ID                 0\n",
              "Age                         0\n",
              "Gender                      0\n",
              "Years at Company            0\n",
              "Job Role                    0\n",
              "Monthly Income              0\n",
              "Work-Life Balance           4\n",
              "Job Satisfaction            0\n",
              "Performance Rating          4\n",
              "Number of Promotions        5\n",
              "Overtime                    0\n",
              "Distance from Home          0\n",
              "Education Level             5\n",
              "Marital Status              4\n",
              "Number of Dependents        6\n",
              "Job Level                   5\n",
              "Company Size                2\n",
              "Company Tenure              0\n",
              "Remote Work                 3\n",
              "Leadership Opportunities    0\n",
              "Innovation Opportunities    0\n",
              "Company Reputation          0\n",
              "Employee Recognition        2\n",
              "Attrition                   0\n",
              "dtype: int64"
            ]
          },
          "metadata": {},
          "execution_count": 21
        }
      ]
    },
    {
      "cell_type": "code",
      "source": [
        "#percentage checking for each columns\n",
        "missing_values = data.isnull().sum()\n",
        "missing_percentage = (missing_values / len(data)) * 100\n",
        "print(missing_percentage.sort_values(ascending = False))"
      ],
      "metadata": {
        "colab": {
          "base_uri": "https://localhost:8080/"
        },
        "id": "y14gxtFdmpva",
        "outputId": "d9657a7c-2e50-44c1-89c2-a86ab8dfd289"
      },
      "execution_count": 22,
      "outputs": [
        {
          "output_type": "stream",
          "name": "stdout",
          "text": [
            "Number of Dependents        0.008054\n",
            "Education Level             0.006712\n",
            "Number of Promotions        0.006712\n",
            "Job Level                   0.006712\n",
            "Work-Life Balance           0.005369\n",
            "Performance Rating          0.005369\n",
            "Marital Status              0.005369\n",
            "Remote Work                 0.004027\n",
            "Employee Recognition        0.002685\n",
            "Company Size                0.002685\n",
            "Company Reputation          0.000000\n",
            "Innovation Opportunities    0.000000\n",
            "Leadership Opportunities    0.000000\n",
            "Company Tenure              0.000000\n",
            "Employee ID                 0.000000\n",
            "Age                         0.000000\n",
            "Distance from Home          0.000000\n",
            "Overtime                    0.000000\n",
            "Job Satisfaction            0.000000\n",
            "Monthly Income              0.000000\n",
            "Job Role                    0.000000\n",
            "Years at Company            0.000000\n",
            "Gender                      0.000000\n",
            "Attrition                   0.000000\n",
            "dtype: float64\n"
          ]
        }
      ]
    },
    {
      "cell_type": "markdown",
      "source": [
        "since the missing value is less,we can drop"
      ],
      "metadata": {
        "id": "wSgtyn3FIu-d"
      }
    },
    {
      "cell_type": "code",
      "source": [
        "#Droping the samples that have missing values\n",
        "data.dropna(inplace=True)"
      ],
      "metadata": {
        "id": "ZAxe-wT9mxF5"
      },
      "execution_count": 23,
      "outputs": []
    },
    {
      "cell_type": "code",
      "source": [
        "data.isna().sum()"
      ],
      "metadata": {
        "colab": {
          "base_uri": "https://localhost:8080/"
        },
        "id": "6g9iFAYQm0mw",
        "outputId": "712667d9-ddd5-43a7-8034-ce134f6d7938"
      },
      "execution_count": 24,
      "outputs": [
        {
          "output_type": "execute_result",
          "data": {
            "text/plain": [
              "Employee ID                 0\n",
              "Age                         0\n",
              "Gender                      0\n",
              "Years at Company            0\n",
              "Job Role                    0\n",
              "Monthly Income              0\n",
              "Work-Life Balance           0\n",
              "Job Satisfaction            0\n",
              "Performance Rating          0\n",
              "Number of Promotions        0\n",
              "Overtime                    0\n",
              "Distance from Home          0\n",
              "Education Level             0\n",
              "Marital Status              0\n",
              "Number of Dependents        0\n",
              "Job Level                   0\n",
              "Company Size                0\n",
              "Company Tenure              0\n",
              "Remote Work                 0\n",
              "Leadership Opportunities    0\n",
              "Innovation Opportunities    0\n",
              "Company Reputation          0\n",
              "Employee Recognition        0\n",
              "Attrition                   0\n",
              "dtype: int64"
            ]
          },
          "metadata": {},
          "execution_count": 24
        }
      ]
    },
    {
      "cell_type": "code",
      "source": [
        "# Looking for duplicates\n",
        "print('Number of duplicate observations in the dataset:', data.duplicated().sum())"
      ],
      "metadata": {
        "colab": {
          "base_uri": "https://localhost:8080/"
        },
        "id": "Hg6MQ_A0m77P",
        "outputId": "14c1427f-8de5-4fc7-fe0f-fb82613f23aa"
      },
      "execution_count": 25,
      "outputs": [
        {
          "output_type": "stream",
          "name": "stdout",
          "text": [
            "Number of duplicate observations in the dataset: 0\n"
          ]
        }
      ]
    },
    {
      "cell_type": "code",
      "source": [
        "data.info()"
      ],
      "metadata": {
        "colab": {
          "base_uri": "https://localhost:8080/"
        },
        "id": "9sgmlRCtn8AG",
        "outputId": "af6def8b-2b3d-45d6-a90f-36003062d15f"
      },
      "execution_count": 26,
      "outputs": [
        {
          "output_type": "stream",
          "name": "stdout",
          "text": [
            "<class 'pandas.core.frame.DataFrame'>\n",
            "Index: 74461 entries, 0 to 74497\n",
            "Data columns (total 24 columns):\n",
            " #   Column                    Non-Null Count  Dtype  \n",
            "---  ------                    --------------  -----  \n",
            " 0   Employee ID               74461 non-null  int64  \n",
            " 1   Age                       74461 non-null  int64  \n",
            " 2   Gender                    74461 non-null  object \n",
            " 3   Years at Company          74461 non-null  int64  \n",
            " 4   Job Role                  74461 non-null  object \n",
            " 5   Monthly Income            74461 non-null  int64  \n",
            " 6   Work-Life Balance         74461 non-null  object \n",
            " 7   Job Satisfaction          74461 non-null  object \n",
            " 8   Performance Rating        74461 non-null  object \n",
            " 9   Number of Promotions      74461 non-null  float64\n",
            " 10  Overtime                  74461 non-null  object \n",
            " 11  Distance from Home        74461 non-null  int64  \n",
            " 12  Education Level           74461 non-null  object \n",
            " 13  Marital Status            74461 non-null  object \n",
            " 14  Number of Dependents      74461 non-null  float64\n",
            " 15  Job Level                 74461 non-null  object \n",
            " 16  Company Size              74461 non-null  object \n",
            " 17  Company Tenure            74461 non-null  int64  \n",
            " 18  Remote Work               74461 non-null  object \n",
            " 19  Leadership Opportunities  74461 non-null  object \n",
            " 20  Innovation Opportunities  74461 non-null  object \n",
            " 21  Company Reputation        74461 non-null  object \n",
            " 22  Employee Recognition      74461 non-null  object \n",
            " 23  Attrition                 74461 non-null  object \n",
            "dtypes: float64(2), int64(6), object(16)\n",
            "memory usage: 14.2+ MB\n"
          ]
        }
      ]
    },
    {
      "cell_type": "markdown",
      "source": [
        "## **Outlier Detection**"
      ],
      "metadata": {
        "id": "wcomWu2DnsSB"
      }
    },
    {
      "cell_type": "code",
      "source": [
        "# List of continuous columns\n",
        "continuous_columns = ['Monthly Income']\n",
        "\n",
        "# Calculate outlier percentage for each column\n",
        "outlier_percentages = {}\n",
        "for col in continuous_columns:\n",
        "    q1 = data[col].quantile(0.25)\n",
        "    q3 = data[col].quantile(0.75)\n",
        "    iqr = q3 - q1\n",
        "    lower_bound = q1 - 1.5 * iqr\n",
        "    upper_bound = q3 + 1.5 * iqr\n",
        "    outliers_percentage = ((data[col] < lower_bound) | (data[col] > upper_bound)).mean() * 100\n",
        "    outlier_percentages[col] = outliers_percentage\n",
        "\n",
        "# Create subplots for each continuous column\n",
        "plt.figure(figsize=(12, 10))\n",
        "for i, col in enumerate(continuous_columns, start=1):\n",
        "    plt.subplot(4, 4, i)\n",
        "    plt.boxplot(data[col])\n",
        "    plt.title(f'{col}\\n(Outliers: {outlier_percentages[col]:.2f}%)')\n",
        "    plt.xticks([])\n",
        "\n",
        "plt.tight_layout()\n",
        "plt.show()"
      ],
      "metadata": {
        "colab": {
          "base_uri": "https://localhost:8080/",
          "height": 300
        },
        "id": "gBP_No_JnuXJ",
        "outputId": "22b5193c-0021-447a-e82e-ef7a3dd87e66"
      },
      "execution_count": 27,
      "outputs": [
        {
          "output_type": "display_data",
          "data": {
            "text/plain": [
              "<Figure size 1200x1000 with 1 Axes>"
            ],
            "image/png": "[encoded data removed]"
          },
          "metadata": {}
        }
      ]
    },
    {
      "cell_type": "markdown",
      "source": [
        "These outliers are relevant for the analysis. So it cannot be removed or clipped\n"
      ],
      "metadata": {
        "id": "zaAeF3dt1A6I"
      }
    },
    {
      "cell_type": "markdown",
      "source": [
        "# Encoding"
      ],
      "metadata": {
        "id": "DpetDeDu1NMa"
      }
    },
    {
      "cell_type": "markdown",
      "source": [],
      "metadata": {
        "id": "-nfHjdvi1P99"
      }
    },
    {
      "cell_type": "code",
      "source": [
        "data.dtypes"
      ],
      "metadata": {
        "colab": {
          "base_uri": "https://localhost:8080/"
        },
        "id": "ark8oBi71lkR",
        "outputId": "a66ede56-c6a8-488c-e22f-2857a8439669"
      },
      "execution_count": 28,
      "outputs": [
        {
          "output_type": "execute_result",
          "data": {
            "text/plain": [
              "Employee ID                   int64\n",
              "Age                           int64\n",
              "Gender                       object\n",
              "Years at Company              int64\n",
              "Job Role                     object\n",
              "Monthly Income                int64\n",
              "Work-Life Balance            object\n",
              "Job Satisfaction             object\n",
              "Performance Rating           object\n",
              "Number of Promotions        float64\n",
              "Overtime                     object\n",
              "Distance from Home            int64\n",
              "Education Level              object\n",
              "Marital Status               object\n",
              "Number of Dependents        float64\n",
              "Job Level                    object\n",
              "Company Size                 object\n",
              "Company Tenure                int64\n",
              "Remote Work                  object\n",
              "Leadership Opportunities     object\n",
              "Innovation Opportunities     object\n",
              "Company Reputation           object\n",
              "Employee Recognition         object\n",
              "Attrition                    object\n",
              "dtype: object"
            ]
          },
          "metadata": {},
          "execution_count": 28
        }
      ]
    },
    {
      "cell_type": "code",
      "source": [
        "# Frequency distribution of values in variables\n",
        "# Now, I will check the frequency counts of categorical variables.\n",
        "col_names=['Gender','Job Role','Work-Life Balance','Job Satisfaction','Performance Rating','Overtime','Education Level','Marital Status','Job Level','Company Size','Remote Work','Leadership Opportunities','Innovation Opportunities','Company Reputation','Employee Recognition','Attrition']\n",
        "for col in col_names:\n",
        "  print(data[col].value_counts())"
      ],
      "metadata": {
        "colab": {
          "base_uri": "https://localhost:8080/"
        },
        "id": "BxqtgjRC1iwl",
        "outputId": "d9f6e4f8-dc12-471d-bfdb-0055dff1ca87"
      },
      "execution_count": 29,
      "outputs": [
        {
          "output_type": "stream",
          "name": "stdout",
          "text": [
            "Gender\n",
            "Male      40805\n",
            "Female    33656\n",
            "Name: count, dtype: int64\n",
            "Job Role\n",
            "Technology    19315\n",
            "Healthcare    17067\n",
            "Education     15654\n",
            "Media         11987\n",
            "Finance       10438\n",
            "Name: count, dtype: int64\n",
            "Work-Life Balance\n",
            "Good         28142\n",
            "Fair         22517\n",
            "Excellent    13429\n",
            "Poor         10373\n",
            "Name: count, dtype: int64\n",
            "Job Satisfaction\n",
            "High         37223\n",
            "Very High    15073\n",
            "Medium       14710\n",
            "Low           7455\n",
            "Name: count, dtype: int64\n",
            "Performance Rating\n",
            "Average          44691\n",
            "High             14905\n",
            "Below Average    11136\n",
            "Low               3729\n",
            "Name: count, dtype: int64\n",
            "Overtime\n",
            "No     50133\n",
            "Yes    24328\n",
            "Name: count, dtype: int64\n",
            "Education Level\n",
            "Bachelor’s Degree    22321\n",
            "Associate Degree     18639\n",
            "Master’s Degree      15013\n",
            "High School          14674\n",
            "PhD                   3814\n",
            "Name: count, dtype: int64\n",
            "Marital Status\n",
            "Married     37404\n",
            "Single      25986\n",
            "Divorced    11071\n",
            "Name: count, dtype: int64\n",
            "Job Level\n",
            "Entry     29764\n",
            "Mid       29666\n",
            "Senior    15031\n",
            "Name: count, dtype: int64\n",
            "Company Size\n",
            "Medium    37212\n",
            "Small     22341\n",
            "Large     14908\n",
            "Name: count, dtype: int64\n",
            "Remote Work\n",
            "No     60268\n",
            "Yes    14193\n",
            "Name: count, dtype: int64\n",
            "Leadership Opportunities\n",
            "No     70809\n",
            "Yes     3652\n",
            "Name: count, dtype: int64\n",
            "Innovation Opportunities\n",
            "No     62360\n",
            "Yes    12101\n",
            "Name: count, dtype: int64\n",
            "Company Reputation\n",
            "Good         37163\n",
            "Poor         15113\n",
            "Fair         14774\n",
            "Excellent     7411\n",
            "Name: count, dtype: int64\n",
            "Employee Recognition\n",
            "Low          29604\n",
            "Medium       22644\n",
            "High         18542\n",
            "Very High     3671\n",
            "Name: count, dtype: int64\n",
            "Attrition\n",
            "Stayed    39113\n",
            "Left      35348\n",
            "Name: count, dtype: int64\n"
          ]
        }
      ]
    },
    {
      "cell_type": "code",
      "source": [
        "data.select_dtypes(['object']).columns"
      ],
      "metadata": {
        "colab": {
          "base_uri": "https://localhost:8080/"
        },
        "id": "xsVoImVj3jSi",
        "outputId": "59c0020b-9316-4d10-e647-cb8bda1ce415"
      },
      "execution_count": 30,
      "outputs": [
        {
          "output_type": "execute_result",
          "data": {
            "text/plain": [
              "Index(['Gender', 'Job Role', 'Work-Life Balance', 'Job Satisfaction',\n",
              "       'Performance Rating', 'Overtime', 'Education Level', 'Marital Status',\n",
              "       'Job Level', 'Company Size', 'Remote Work', 'Leadership Opportunities',\n",
              "       'Innovation Opportunities', 'Company Reputation',\n",
              "       'Employee Recognition', 'Attrition'],\n",
              "      dtype='object')"
            ]
          },
          "metadata": {},
          "execution_count": 30
        }
      ]
    },
    {
      "cell_type": "markdown",
      "source": [
        "Label Encoding"
      ],
      "metadata": {
        "id": "Nl7yunDu4Nnb"
      }
    },
    {
      "cell_type": "code",
      "source": [
        "from sklearn.preprocessing import LabelEncoder\n",
        "\n",
        "label_encoder = LabelEncoder()\n",
        "\n",
        "# Define the column to be label encoded\n",
        "col_names=['Gender','Job Role','Work-Life Balance','Job Satisfaction','Performance Rating','Overtime','Education Level','Marital Status','Job Level','Company Size','Remote Work','Leadership Opportunities','Innovation Opportunities','Company Reputation','Employee Recognition']\n",
        "for col in col_names:\n",
        "  data.loc[:, col] = label_encoder.fit_transform(data[col])\n",
        "\n",
        "data.head()\n"
      ],
      "metadata": {
        "colab": {
          "base_uri": "https://localhost:8080/",
          "height": 290
        },
        "id": "L5VgoswY3lN-",
        "outputId": "df6df54a-6ea4-4eca-b5e6-8cf02a3425c4"
      },
      "execution_count": 31,
      "outputs": [
        {
          "output_type": "execute_result",
          "data": {
            "text/plain": [
              "   Employee ID  Age Gender  Years at Company Job Role  Monthly Income  \\\n",
              "0         8410   31      1                19        0            5390   \n",
              "1        64756   59      0                 4        3            5534   \n",
              "2        30257   24      0                10        2            8159   \n",
              "3        65791   36      0                 7        0            3989   \n",
              "4        65026   56      1                41        0            4821   \n",
              "\n",
              "  Work-Life Balance Job Satisfaction Performance Rating  Number of Promotions  \\\n",
              "0                 0                2                  0                   2.0   \n",
              "1                 3                0                  3                   3.0   \n",
              "2                 2                0                  3                   0.0   \n",
              "3                 2                0                  2                   1.0   \n",
              "4                 1                3                  0                   0.0   \n",
              "\n",
              "   ... Number of Dependents  Job Level Company Size Company Tenure  \\\n",
              "0  ...                  0.0          1            1             89   \n",
              "1  ...                  3.0          1            1             21   \n",
              "2  ...                  3.0          1            1             74   \n",
              "3  ...                  2.0          1            2             50   \n",
              "4  ...                  0.0          2            1             68   \n",
              "\n",
              "   Remote Work Leadership Opportunities Innovation Opportunities  \\\n",
              "0            0                        0                        0   \n",
              "1            0                        0                        0   \n",
              "2            0                        0                        0   \n",
              "3            1                        0                        0   \n",
              "4            0                        0                        0   \n",
              "\n",
              "   Company Reputation Employee Recognition Attrition  \n",
              "0                   0                    2    Stayed  \n",
              "1                   1                    1    Stayed  \n",
              "2                   3                    1    Stayed  \n",
              "3                   2                    2    Stayed  \n",
              "4                   1                    2    Stayed  \n",
              "\n",
              "[5 rows x 24 columns]"
            ],
            "text/html": [
              "\n",
              "  <div id=\"df-14427cc2-43fe-4340-b7c1-3c6e8d5ca28d\" class=\"colab-df-container\">\n",
              "    <div>\n",
              "<style scoped>\n",
              "    .dataframe tbody tr th:only-of-type {\n",
              "        vertical-align: middle;\n",
              "    }\n",
              "\n",
              "    .dataframe tbody tr th {\n",
              "        vertical-align: top;\n",
              "    }\n",
              "\n",
              "    .dataframe thead th {\n",
              "        text-align: right;\n",
              "    }\n",
              "</style>\n",
              "<table border=\"1\" class=\"dataframe\">\n",
              "  <thead>\n",
              "    <tr style=\"text-align: right;\">\n",
              "      <th></th>\n",
              "      <th>Employee ID</th>\n",
              "      <th>Age</th>\n",
              "      <th>Gender</th>\n",
              "      <th>Years at Company</th>\n",
              "      <th>Job Role</th>\n",
              "      <th>Monthly Income</th>\n",
              "      <th>Work-Life Balance</th>\n",
              "      <th>Job Satisfaction</th>\n",
              "      <th>Performance Rating</th>\n",
              "      <th>Number of Promotions</th>\n",
              "      <th>...</th>\n",
              "      <th>Number of Dependents</th>\n",
              "      <th>Job Level</th>\n",
              "      <th>Company Size</th>\n",
              "      <th>Company Tenure</th>\n",
              "      <th>Remote Work</th>\n",
              "      <th>Leadership Opportunities</th>\n",
              "      <th>Innovation Opportunities</th>\n",
              "      <th>Company Reputation</th>\n",
              "      <th>Employee Recognition</th>\n",
              "      <th>Attrition</th>\n",
              "    </tr>\n",
              "  </thead>\n",
              "  <tbody>\n",
              "    <tr>\n",
              "      <th>0</th>\n",
              "      <td>8410</td>\n",
              "      <td>31</td>\n",
              "      <td>1</td>\n",
              "      <td>19</td>\n",
              "      <td>0</td>\n",
              "      <td>5390</td>\n",
              "      <td>0</td>\n",
              "      <td>2</td>\n",
              "      <td>0</td>\n",
              "      <td>2.0</td>\n",
              "      <td>...</td>\n",
              "      <td>0.0</td>\n",
              "      <td>1</td>\n",
              "      <td>1</td>\n",
              "      <td>89</td>\n",
              "      <td>0</td>\n",
              "      <td>0</td>\n",
              "      <td>0</td>\n",
              "      <td>0</td>\n",
              "      <td>2</td>\n",
              "      <td>Stayed</td>\n",
              "    </tr>\n",
              "    <tr>\n",
              "      <th>1</th>\n",
              "      <td>64756</td>\n",
              "      <td>59</td>\n",
              "      <td>0</td>\n",
              "      <td>4</td>\n",
              "      <td>3</td>\n",
              "      <td>5534</td>\n",
              "      <td>3</td>\n",
              "      <td>0</td>\n",
              "      <td>3</td>\n",
              "      <td>3.0</td>\n",
              "      <td>...</td>\n",
              "      <td>3.0</td>\n",
              "      <td>1</td>\n",
              "      <td>1</td>\n",
              "      <td>21</td>\n",
              "      <td>0</td>\n",
              "      <td>0</td>\n",
              "      <td>0</td>\n",
              "      <td>1</td>\n",
              "      <td>1</td>\n",
              "      <td>Stayed</td>\n",
              "    </tr>\n",
              "    <tr>\n",
              "      <th>2</th>\n",
              "      <td>30257</td>\n",
              "      <td>24</td>\n",
              "      <td>0</td>\n",
              "      <td>10</td>\n",
              "      <td>2</td>\n",
              "      <td>8159</td>\n",
              "      <td>2</td>\n",
              "      <td>0</td>\n",
              "      <td>3</td>\n",
              "      <td>0.0</td>\n",
              "      <td>...</td>\n",
              "      <td>3.0</td>\n",
              "      <td>1</td>\n",
              "      <td>1</td>\n",
              "      <td>74</td>\n",
              "      <td>0</td>\n",
              "      <td>0</td>\n",
              "      <td>0</td>\n",
              "      <td>3</td>\n",
              "      <td>1</td>\n",
              "      <td>Stayed</td>\n",
              "    </tr>\n",
              "    <tr>\n",
              "      <th>3</th>\n",
              "      <td>65791</td>\n",
              "      <td>36</td>\n",
              "      <td>0</td>\n",
              "      <td>7</td>\n",
              "      <td>0</td>\n",
              "      <td>3989</td>\n",
              "      <td>2</td>\n",
              "      <td>0</td>\n",
              "      <td>2</td>\n",
              "      <td>1.0</td>\n",
              "      <td>...</td>\n",
              "      <td>2.0</td>\n",
              "      <td>1</td>\n",
              "      <td>2</td>\n",
              "      <td>50</td>\n",
              "      <td>1</td>\n",
              "      <td>0</td>\n",
              "      <td>0</td>\n",
              "      <td>2</td>\n",
              "      <td>2</td>\n",
              "      <td>Stayed</td>\n",
              "    </tr>\n",
              "    <tr>\n",
              "      <th>4</th>\n",
              "      <td>65026</td>\n",
              "      <td>56</td>\n",
              "      <td>1</td>\n",
              "      <td>41</td>\n",
              "      <td>0</td>\n",
              "      <td>4821</td>\n",
              "      <td>1</td>\n",
              "      <td>3</td>\n",
              "      <td>0</td>\n",
              "      <td>0.0</td>\n",
              "      <td>...</td>\n",
              "      <td>0.0</td>\n",
              "      <td>2</td>\n",
              "      <td>1</td>\n",
              "      <td>68</td>\n",
              "      <td>0</td>\n",
              "      <td>0</td>\n",
              "      <td>0</td>\n",
              "      <td>1</td>\n",
              "      <td>2</td>\n",
              "      <td>Stayed</td>\n",
              "    </tr>\n",
              "  </tbody>\n",
              "</table>\n",
              "<p>5 rows × 24 columns</p>\n",
              "</div>\n",
              "    <div class=\"colab-df-buttons\">\n",
              "\n",
              "  <div class=\"colab-df-container\">\n",
              "    <button class=\"colab-df-convert\" onclick=\"convertToInteractive('df-14427cc2-43fe-4340-b7c1-3c6e8d5ca28d')\"\n",
              "            title=\"Convert this dataframe to an interactive table.\"\n",
              "            style=\"display:none;\">\n",
              "\n",
              "  <svg xmlns=\"http://www.w3.org/2000/svg\" height=\"24px\" viewBox=\"0 -960 960 960\">\n",
              "    <path d=\"M120-120v-720h720v720H120Zm60-500h600v-160H180v160Zm220 220h160v-160H400v160Zm0 220h160v-160H400v160ZM180-400h160v-160H180v160Zm440 0h160v-160H620v160ZM180-180h160v-160H180v160Zm440 0h160v-160H620v160Z\"/>\n",
              "  </svg>\n",
              "    </button>\n",
              "\n",
              "  <style>\n",
              "    .colab-df-container {\n",
              "      display:flex;\n",
              "      gap: 12px;\n",
              "    }\n",
              "\n",
              "    .colab-df-convert {\n",
              "      background-color: #E8F0FE;\n",
              "      border: none;\n",
              "      border-radius: 50%;\n",
              "      cursor: pointer;\n",
              "      display: none;\n",
              "      fill: #1967D2;\n",
              "      height: 32px;\n",
              "      padding: 0 0 0 0;\n",
              "      width: 32px;\n",
              "    }\n",
              "\n",
              "    .colab-df-convert:hover {\n",
              "      background-color: #E2EBFA;\n",
              "      box-shadow: 0px 1px 2px rgba(60, 64, 67, 0.3), 0px 1px 3px 1px rgba(60, 64, 67, 0.15);\n",
              "      fill: #174EA6;\n",
              "    }\n",
              "\n",
              "    .colab-df-buttons div {\n",
              "      margin-bottom: 4px;\n",
              "    }\n",
              "\n",
              "    [theme=dark] .colab-df-convert {\n",
              "      background-color: #3B4455;\n",
              "      fill: #D2E3FC;\n",
              "    }\n",
              "\n",
              "    [theme=dark] .colab-df-convert:hover {\n",
              "      background-color: #434B5C;\n",
              "      box-shadow: 0px 1px 3px 1px rgba(0, 0, 0, 0.15);\n",
              "      filter: drop-shadow(0px 1px 2px rgba(0, 0, 0, 0.3));\n",
              "      fill: #FFFFFF;\n",
              "    }\n",
              "  </style>\n",
              "\n",
              "    <script>\n",
              "      const buttonEl =\n",
              "        document.querySelector('#df-14427cc2-43fe-4340-b7c1-3c6e8d5ca28d button.colab-df-convert');\n",
              "      buttonEl.style.display =\n",
              "        google.colab.kernel.accessAllowed ? 'block' : 'none';\n",
              "\n",
              "      async function convertToInteractive(key) {\n",
              "        const element = document.querySelector('#df-14427cc2-43fe-4340-b7c1-3c6e8d5ca28d');\n",
              "        const dataTable =\n",
              "          await google.colab.kernel.invokeFunction('convertToInteractive',\n",
              "                                                    [key], {});\n",
              "        if (!dataTable) return;\n",
              "\n",
              "        const docLinkHtml = 'Like what you see? Visit the ' +\n",
              "          '<a target=\"_blank\" href=https://colab.research.google.com/notebooks/data_table.ipynb>data table notebook</a>'\n",
              "          + ' to learn more about interactive tables.';\n",
              "        element.innerHTML = '';\n",
              "        dataTable['output_type'] = 'display_data';\n",
              "        await google.colab.output.renderOutput(dataTable, element);\n",
              "        const docLink = document.createElement('div');\n",
              "        docLink.innerHTML = docLinkHtml;\n",
              "        element.appendChild(docLink);\n",
              "      }\n",
              "    </script>\n",
              "  </div>\n",
              "\n",
              "\n",
              "<div id=\"df-5b2b527a-d901-4e94-becf-848e85c04c78\">\n",
              "  <button class=\"colab-df-quickchart\" onclick=\"quickchart('df-5b2b527a-d901-4e94-becf-848e85c04c78')\"\n",
              "            title=\"Suggest charts\"\n",
              "            style=\"display:none;\">\n",
              "\n",
              "<svg xmlns=\"http://www.w3.org/2000/svg\" height=\"24px\"viewBox=\"0 0 24 24\"\n",
              "     width=\"24px\">\n",
              "    <g>\n",
              "        <path d=\"M19 3H5c-1.1 0-2 .9-2 2v14c0 1.1.9 2 2 2h14c1.1 0 2-.9 2-2V5c0-1.1-.9-2-2-2zM9 17H7v-7h2v7zm4 0h-2V7h2v10zm4 0h-2v-4h2v4z\"/>\n",
              "    </g>\n",
              "</svg>\n",
              "  </button>\n",
              "\n",
              "<style>\n",
              "  .colab-df-quickchart {\n",
              "      --bg-color: #E8F0FE;\n",
              "      --fill-color: #1967D2;\n",
              "      --hover-bg-color: #E2EBFA;\n",
              "      --hover-fill-color: #174EA6;\n",
              "      --disabled-fill-color: #AAA;\n",
              "      --disabled-bg-color: #DDD;\n",
              "  }\n",
              "\n",
              "  [theme=dark] .colab-df-quickchart {\n",
              "      --bg-color: #3B4455;\n",
              "      --fill-color: #D2E3FC;\n",
              "      --hover-bg-color: #434B5C;\n",
              "      --hover-fill-color: #FFFFFF;\n",
              "      --disabled-bg-color: #3B4455;\n",
              "      --disabled-fill-color: #666;\n",
              "  }\n",
              "\n",
              "  .colab-df-quickchart {\n",
              "    background-color: var(--bg-color);\n",
              "    border: none;\n",
              "    border-radius: 50%;\n",
              "    cursor: pointer;\n",
              "    display: none;\n",
              "    fill: var(--fill-color);\n",
              "    height: 32px;\n",
              "    padding: 0;\n",
              "    width: 32px;\n",
              "  }\n",
              "\n",
              "  .colab-df-quickchart:hover {\n",
              "    background-color: var(--hover-bg-color);\n",
              "    box-shadow: 0 1px 2px rgba(60, 64, 67, 0.3), 0 1px 3px 1px rgba(60, 64, 67, 0.15);\n",
              "    fill: var(--button-hover-fill-color);\n",
              "  }\n",
              "\n",
              "  .colab-df-quickchart-complete:disabled,\n",
              "  .colab-df-quickchart-complete:disabled:hover {\n",
              "    background-color: var(--disabled-bg-color);\n",
              "    fill: var(--disabled-fill-color);\n",
              "    box-shadow: none;\n",
              "  }\n",
              "\n",
              "  .colab-df-spinner {\n",
              "    border: 2px solid var(--fill-color);\n",
              "    border-color: transparent;\n",
              "    border-bottom-color: var(--fill-color);\n",
              "    animation:\n",
              "      spin 1s steps(1) infinite;\n",
              "  }\n",
              "\n",
              "  @keyframes spin {\n",
              "    0% {\n",
              "      border-color: transparent;\n",
              "      border-bottom-color: var(--fill-color);\n",
              "      border-left-color: var(--fill-color);\n",
              "    }\n",
              "    20% {\n",
              "      border-color: transparent;\n",
              "      border-left-color: var(--fill-color);\n",
              "      border-top-color: var(--fill-color);\n",
              "    }\n",
              "    30% {\n",
              "      border-color: transparent;\n",
              "      border-left-color: var(--fill-color);\n",
              "      border-top-color: var(--fill-color);\n",
              "      border-right-color: var(--fill-color);\n",
              "    }\n",
              "    40% {\n",
              "      border-color: transparent;\n",
              "      border-right-color: var(--fill-color);\n",
              "      border-top-color: var(--fill-color);\n",
              "    }\n",
              "    60% {\n",
              "      border-color: transparent;\n",
              "      border-right-color: var(--fill-color);\n",
              "    }\n",
              "    80% {\n",
              "      border-color: transparent;\n",
              "      border-right-color: var(--fill-color);\n",
              "      border-bottom-color: var(--fill-color);\n",
              "    }\n",
              "    90% {\n",
              "      border-color: transparent;\n",
              "      border-bottom-color: var(--fill-color);\n",
              "    }\n",
              "  }\n",
              "</style>\n",
              "\n",
              "  <script>\n",
              "    async function quickchart(key) {\n",
              "      const quickchartButtonEl =\n",
              "        document.querySelector('#' + key + ' button');\n",
              "      quickchartButtonEl.disabled = true;  // To prevent multiple clicks.\n",
              "      quickchartButtonEl.classList.add('colab-df-spinner');\n",
              "      try {\n",
              "        const charts = await google.colab.kernel.invokeFunction(\n",
              "            'suggestCharts', [key], {});\n",
              "      } catch (error) {\n",
              "        console.error('Error during call to suggestCharts:', error);\n",
              "      }\n",
              "      quickchartButtonEl.classList.remove('colab-df-spinner');\n",
              "      quickchartButtonEl.classList.add('colab-df-quickchart-complete');\n",
              "    }\n",
              "    (() => {\n",
              "      let quickchartButtonEl =\n",
              "        document.querySelector('#df-5b2b527a-d901-4e94-becf-848e85c04c78 button');\n",
              "      quickchartButtonEl.style.display =\n",
              "        google.colab.kernel.accessAllowed ? 'block' : 'none';\n",
              "    })();\n",
              "  </script>\n",
              "</div>\n",
              "\n",
              "    </div>\n",
              "  </div>\n"
            ],
            "application/vnd.google.colaboratory.intrinsic+json": {
              "type": "dataframe",
              "variable_name": "data"
            }
          },
          "metadata": {},
          "execution_count": 31
        }
      ]
    },
    {
      "cell_type": "code",
      "source": [
        "data.columns"
      ],
      "metadata": {
        "colab": {
          "base_uri": "https://localhost:8080/"
        },
        "id": "XPWkiduf8Y1T",
        "outputId": "52055942-d751-41ac-b629-f7f671c2f966"
      },
      "execution_count": 32,
      "outputs": [
        {
          "output_type": "execute_result",
          "data": {
            "text/plain": [
              "Index(['Employee ID', 'Age', 'Gender', 'Years at Company', 'Job Role',\n",
              "       'Monthly Income', 'Work-Life Balance', 'Job Satisfaction',\n",
              "       'Performance Rating', 'Number of Promotions', 'Overtime',\n",
              "       'Distance from Home', 'Education Level', 'Marital Status',\n",
              "       'Number of Dependents', 'Job Level', 'Company Size', 'Company Tenure',\n",
              "       'Remote Work', 'Leadership Opportunities', 'Innovation Opportunities',\n",
              "       'Company Reputation', 'Employee Recognition', 'Attrition'],\n",
              "      dtype='object')"
            ]
          },
          "metadata": {},
          "execution_count": 32
        }
      ]
    },
    {
      "cell_type": "code",
      "source": [
        "data.drop('Employee ID', axis = 1, inplace = True)"
      ],
      "metadata": {
        "id": "C5RJjb7M4XXW"
      },
      "execution_count": 33,
      "outputs": []
    },
    {
      "cell_type": "code",
      "source": [
        "data.drop(columns=['Gender','Age','Work-Life Balance','Job Satisfaction','Marital Status','Company Size'], axis = 1, inplace = True)"
      ],
      "metadata": {
        "id": "cS5vFfYC8cYf"
      },
      "execution_count": 34,
      "outputs": []
    },
    {
      "cell_type": "code",
      "source": [
        "data.drop(columns=['Job Role','Performance Rating','Overtime','Education Level','Job Level','Remote Work','Leadership Opportunities','Innovation Opportunities','Company Reputation','Employee Recognition'], axis = 1, inplace = True)"
      ],
      "metadata": {
        "id": "iFef1lI-_qqF"
      },
      "execution_count": 35,
      "outputs": []
    },
    {
      "cell_type": "code",
      "source": [
        "data.shape"
      ],
      "metadata": {
        "colab": {
          "base_uri": "https://localhost:8080/"
        },
        "id": "qk9VkP8X9GB1",
        "outputId": "db5b6890-8ec3-406b-acf1-7b56961d04fe"
      },
      "execution_count": 36,
      "outputs": [
        {
          "output_type": "execute_result",
          "data": {
            "text/plain": [
              "(74461, 7)"
            ]
          },
          "metadata": {},
          "execution_count": 36
        }
      ]
    },
    {
      "cell_type": "code",
      "source": [
        "data.info()"
      ],
      "metadata": {
        "colab": {
          "base_uri": "https://localhost:8080/"
        },
        "id": "qsMWhoL45thp",
        "outputId": "766497d6-c619-4bb0-fdd0-a3b3c73b76fd"
      },
      "execution_count": 38,
      "outputs": [
        {
          "output_type": "stream",
          "name": "stdout",
          "text": [
            "<class 'pandas.core.frame.DataFrame'>\n",
            "Index: 74461 entries, 0 to 74497\n",
            "Data columns (total 7 columns):\n",
            " #   Column                Non-Null Count  Dtype  \n",
            "---  ------                --------------  -----  \n",
            " 0   Years at Company      74461 non-null  int64  \n",
            " 1   Monthly Income        74461 non-null  int64  \n",
            " 2   Number of Promotions  74461 non-null  float64\n",
            " 3   Distance from Home    74461 non-null  int64  \n",
            " 4   Number of Dependents  74461 non-null  float64\n",
            " 5   Company Tenure        74461 non-null  int64  \n",
            " 6   Attrition             74461 non-null  object \n",
            "dtypes: float64(2), int64(4), object(1)\n",
            "memory usage: 4.5+ MB\n"
          ]
        }
      ]
    },
    {
      "cell_type": "markdown",
      "source": [
        "**Split Data**"
      ],
      "metadata": {
        "id": "4RIo8DDaChnh"
      }
    },
    {
      "cell_type": "code",
      "source": [
        "from sklearn.model_selection import train_test_split\n",
        "from sklearn.metrics import accuracy_score\n",
        "\n",
        "\n",
        "# Separate the features and the target variable\n",
        "X = data.drop(columns = ['Attrition'])\n",
        "y = data['Attrition']\n",
        "\n",
        "# Split the data into training and testing sets\n",
        "X_train, X_test, y_train, y_test = train_test_split(X, y, test_size = 0.2, random_state = 42,stratify=y)"
      ],
      "metadata": {
        "id": "JY36gTUr6gH3"
      },
      "execution_count": 39,
      "outputs": []
    },
    {
      "cell_type": "markdown",
      "source": [
        "# Model Building"
      ],
      "metadata": {
        "id": "o0m2aDxdDjvA"
      }
    },
    {
      "cell_type": "markdown",
      "source": [
        "LogisticRegression"
      ],
      "metadata": {
        "id": "raa3ksbJCnfQ"
      }
    },
    {
      "cell_type": "code",
      "source": [
        "from sklearn.linear_model import LogisticRegression\n",
        "log_reg=LogisticRegression()\n",
        "#fitting train sets into LogisticRegression\n",
        "log_reg.fit(X_train,y_train)\n",
        "#doing prediction on test set\n",
        "y_log_pred=log_reg.predict(X_test)\n"
      ],
      "metadata": {
        "id": "o_68p9RsBOsZ"
      },
      "execution_count": 40,
      "outputs": []
    },
    {
      "cell_type": "code",
      "source": [
        "from sklearn.metrics import confusion_matrix,accuracy_score,precision_score,recall_score,f1_score\n",
        "confusion_matrix(y_test,y_log_pred)"
      ],
      "metadata": {
        "colab": {
          "base_uri": "https://localhost:8080/"
        },
        "id": "ZC9dRCW4Bhex",
        "outputId": "b7815ae8-e57c-4568-af4a-1c470008d578"
      },
      "execution_count": 41,
      "outputs": [
        {
          "output_type": "execute_result",
          "data": {
            "text/plain": [
              "array([[3085, 3985],\n",
              "       [2443, 5380]])"
            ]
          },
          "metadata": {},
          "execution_count": 41
        }
      ]
    },
    {
      "cell_type": "code",
      "source": [
        "print('Accuracy:',accuracy_score(y_test,y_log_pred))\n",
        "print('Precision:',precision_score(y_test,y_log_pred,average='weighted'))\n",
        "print('recall:',recall_score(y_test,y_log_pred,average='weighted'))\n",
        "print('F1:',f1_score(y_test,y_log_pred,average='weighted'))"
      ],
      "metadata": {
        "colab": {
          "base_uri": "https://localhost:8080/"
        },
        "id": "AIq5tMTtBm9a",
        "outputId": "122c8e5f-0946-45e2-bf05-67903ce656c5"
      },
      "execution_count": 42,
      "outputs": [
        {
          "output_type": "stream",
          "name": "stdout",
          "text": [
            "Accuracy: 0.568387833210233\n",
            "Precision: 0.5666886174033352\n",
            "recall: 0.568387833210233\n",
            "F1: 0.5613338602080898\n"
          ]
        }
      ]
    },
    {
      "cell_type": "markdown",
      "source": [
        "KNN"
      ],
      "metadata": {
        "id": "rZslqYi3Cu-I"
      }
    },
    {
      "cell_type": "code",
      "source": [
        "from sklearn.neighbors import KNeighborsClassifier\n",
        "metric_k=[]\n",
        "neighbors=np.arange(3,15)\n",
        "for k in neighbors:\n",
        "  classifier=KNeighborsClassifier(n_neighbors=k,metric='minkowski',p=2)\n",
        "  classifier.fit(X_train,y_train)\n",
        "  y_pred_knn=classifier.predict(X_test)\n",
        "  accuracy=accuracy_score(y_test,y_pred_knn)\n",
        "  metric_k.append(accuracy)\n"
      ],
      "metadata": {
        "id": "U8tQ_Z0ECIQq"
      },
      "execution_count": 43,
      "outputs": []
    },
    {
      "cell_type": "code",
      "source": [
        "plt.plot(neighbors,metric_k,'o-')\n",
        "plt.xlabel('K_value')\n",
        "plt.ylabel('accuracy')"
      ],
      "metadata": {
        "colab": {
          "base_uri": "https://localhost:8080/",
          "height": 468
        },
        "id": "R4xlXIb4COmQ",
        "outputId": "c9ee2086-5c4f-41b1-94f3-52c43ed73985"
      },
      "execution_count": 44,
      "outputs": [
        {
          "output_type": "execute_result",
          "data": {
            "text/plain": [
              "Text(0, 0.5, 'accuracy')"
            ]
          },
          "metadata": {},
          "execution_count": 44
        },
        {
          "output_type": "display_data",
          "data": {
            "text/plain": [
              "<Figure size 640x480 with 1 Axes>"
            ],
            "image/png": "[encoded data removed]"
          },
          "metadata": {}
        }
      ]
    },
    {
      "cell_type": "code",
      "source": [
        "classifier=KNeighborsClassifier(n_neighbors=11,metric='minkowski',p=2)\n",
        "classifier.fit(X_train,y_train)\n",
        "y_pred_knn=classifier.predict(X_test)\n"
      ],
      "metadata": {
        "id": "eq1DHQ0gCSI7"
      },
      "execution_count": 45,
      "outputs": []
    },
    {
      "cell_type": "code",
      "source": [
        "print('Accuracy:',accuracy_score(y_test,y_pred_knn))\n",
        "print('Precision:',precision_score(y_test,y_pred_knn,average='weighted'))\n",
        "print('recall:',recall_score(y_test,y_pred_knn,average='weighted'))\n",
        "print('F1:',f1_score(y_test,y_pred_knn,average='weighted'))"
      ],
      "metadata": {
        "colab": {
          "base_uri": "https://localhost:8080/"
        },
        "id": "PGnOa_TZCZJV",
        "outputId": "04476d97-b769-45d7-a86c-7065325974e2"
      },
      "execution_count": 46,
      "outputs": [
        {
          "output_type": "stream",
          "name": "stdout",
          "text": [
            "Accuracy: 0.52716041093131\n",
            "Precision: 0.5255617702004413\n",
            "recall: 0.52716041093131\n",
            "F1: 0.5256842807797566\n"
          ]
        }
      ]
    },
    {
      "cell_type": "markdown",
      "source": [
        "Random Forest"
      ],
      "metadata": {
        "id": "Db3uQ5zNC-G4"
      }
    },
    {
      "cell_type": "code",
      "source": [
        "from sklearn.ensemble import RandomForestClassifier\n",
        "rf_clf=RandomForestClassifier()\n",
        "\n",
        "#fitting train sets into Random Forest\n",
        "\n",
        "rf_clf.fit(X_train,y_train)\n",
        "\n",
        "y_pred=rf_clf.predict(X_test)\n",
        "\n",
        "print('Accuracy Score without hyperparameter tuning:',accuracy_score(y_test,y_pred))\n"
      ],
      "metadata": {
        "colab": {
          "base_uri": "https://localhost:8080/"
        },
        "id": "MsjbjKFKCx9w",
        "outputId": "78bcaa5a-37aa-401e-93ba-5af60cc7e0fb"
      },
      "execution_count": 47,
      "outputs": [
        {
          "output_type": "stream",
          "name": "stdout",
          "text": [
            "Accuracy Score without hyperparameter tuning: 0.5501242194319479\n"
          ]
        }
      ]
    },
    {
      "cell_type": "markdown",
      "source": [
        "RF with hyperparameter tuning"
      ],
      "metadata": {
        "id": "YcfN8zsqI_T5"
      }
    },
    {
      "cell_type": "code",
      "source": [
        "rf_clf1=RandomForestClassifier(n_estimators=20,max_depth=20,criterion='entropy',min_samples_split=3)\n",
        "rf_clf1.fit(X_train,y_train)\n",
        "y_pred=rf_clf1.predict(X_test)\n",
        "print('Accuracy Score with hyperparameter tuning:',accuracy_score(y_test,y_pred))"
      ],
      "metadata": {
        "colab": {
          "base_uri": "https://localhost:8080/"
        },
        "id": "xHKdQWYeDe9A",
        "outputId": "6ee7cc09-430f-4080-81eb-16d9b1943efc"
      },
      "execution_count": 48,
      "outputs": [
        {
          "output_type": "stream",
          "name": "stdout",
          "text": [
            "Accuracy Score with hyperparameter tuning: 0.5610689585711408\n"
          ]
        }
      ]
    },
    {
      "cell_type": "markdown",
      "source": [
        "# ***Decision Tree***"
      ],
      "metadata": {
        "id": "DzWA_dbNDGIe"
      }
    },
    {
      "cell_type": "code",
      "source": [
        "from sklearn.tree import DecisionTreeClassifier\n",
        "dt_clf=DecisionTreeClassifier(random_state=42)\n",
        "\n",
        "#fitting train sets into Decision Tree\n",
        "\n",
        "dt_clf.fit(X_train,y_train)\n",
        "y_pred=dt_clf.predict(X_test)\n",
        "\n",
        "print('Accuracy is:',accuracy_score(y_test,y_pred))\n"
      ],
      "metadata": {
        "colab": {
          "base_uri": "https://localhost:8080/"
        },
        "id": "e2h1gT98C4CM",
        "outputId": "80a0d564-66e4-479b-e897-af831dc6b6e0"
      },
      "execution_count": 49,
      "outputs": [
        {
          "output_type": "stream",
          "name": "stdout",
          "text": [
            "Accuracy is: 0.5179614584032767\n"
          ]
        }
      ]
    },
    {
      "cell_type": "markdown",
      "source": [
        "# **Gradient Boosting**"
      ],
      "metadata": {
        "id": "30jxA3RtIFB4"
      }
    },
    {
      "cell_type": "code",
      "source": [
        "from sklearn.ensemble import GradientBoostingClassifier\n",
        "\n",
        "# Create a Gradient Boosting classifier\n",
        "gb_classifier = GradientBoostingClassifier(random_state=42)\n",
        "\n",
        "# Train the model on the training data\n",
        "gb_classifier.fit(X_train, y_train)\n",
        "\n",
        "# Make predictions on the testing data\n",
        "y_pred = gb_classifier.predict(X_test)\n",
        "\n",
        "accuracy_gb = accuracy_score(y_test, y_pred)\n",
        "accuracy_gb"
      ],
      "metadata": {
        "colab": {
          "base_uri": "https://localhost:8080/"
        },
        "id": "wJ1aAsQ3H-6_",
        "outputId": "adf25df7-a112-45b7-e3c3-71e08438e809"
      },
      "execution_count": 53,
      "outputs": [
        {
          "output_type": "execute_result",
          "data": {
            "text/plain": [
              "0.5790639897938629"
            ]
          },
          "metadata": {},
          "execution_count": 53
        }
      ]
    },
    {
      "cell_type": "markdown",
      "source": [
        "Gradient Boosting gives the best accuracy"
      ],
      "metadata": {
        "id": "ZviRwHzkJGaK"
      }
    },
    {
      "cell_type": "code",
      "source": [
        "gb_classifier.predict([[19,5390,2,22,0,89]])"
      ],
      "metadata": {
        "colab": {
          "base_uri": "https://localhost:8080/"
        },
        "id": "-sdKt9vsF5NW",
        "outputId": "0b505e91-3984-4f5d-d547-c8193bd6360f"
      },
      "execution_count": 55,
      "outputs": [
        {
          "output_type": "stream",
          "name": "stderr",
          "text": [
            "/usr/local/lib/python3.10/dist-packages/sklearn/base.py:439: UserWarning: X does not have valid feature names, but GradientBoostingClassifier was fitted with feature names\n",
            "  warnings.warn(\n"
          ]
        },
        {
          "output_type": "execute_result",
          "data": {
            "text/plain": [
              "array(['Stayed'], dtype=object)"
            ]
          },
          "metadata": {},
          "execution_count": 55
        }
      ]
    },
    {
      "cell_type": "markdown",
      "source": [
        "ie,The Employee not left from the company,"
      ],
      "metadata": {
        "id": "2ulrdI6DHibc"
      }
    }
  ]
}